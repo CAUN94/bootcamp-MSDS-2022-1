{
 "metadata": {
  "language_info": {
   "codemirror_mode": {
    "name": "ipython",
    "version": 3
   },
   "file_extension": ".py",
   "mimetype": "text/x-python",
   "name": "python",
   "nbconvert_exporter": "python",
   "pygments_lexer": "ipython3",
   "version": 3
  },
  "orig_nbformat": 2
 },
 "nbformat": 4,
 "nbformat_minor": 2,
 "cells": [
  {
   "cell_type": "markdown",
   "metadata": {},
   "source": [
    "# Algoritmos\n",
    "\n",
    "Es una secuencia de pasos para resolver un problema.\n",
    "\n",
    "Sus 3 principios básicos son:\n",
    "- Finito\n",
    "- Consistente\n",
    "- Ordenado\n",
    "\n",
    "Para desarrollar un algoritmo hay que usar la logica.\n",
    "\n",
    "Para aprender esto haremos 2 ejercicios clasicos que son ordenar y buscar en listas de datos."
   ]
  },
  {
   "cell_type": "markdown",
   "metadata": {},
   "source": []
  }
 ]
}