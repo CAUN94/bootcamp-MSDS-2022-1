{
 "metadata": {
  "language_info": {
   "codemirror_mode": {
    "name": "ipython",
    "version": 3
   },
   "file_extension": ".py",
   "mimetype": "text/x-python",
   "name": "python",
   "nbconvert_exporter": "python",
   "pygments_lexer": "ipython3",
   "version": 3
  },
  "orig_nbformat": 2
 },
 "nbformat": 4,
 "nbformat_minor": 2,
 "cells": [
  {
   "cell_type": "markdown",
   "metadata": {},
   "source": [
    "# Insertion Sort\n",
    "\n",
    "Gif que explica el algoritmo\n",
    "https://upload.wikimedia.org/wikipedia/commons/0/0f/Insertion-sort-example-300px.gif\n",
    "\n",
    "Este algoritmo sigue la misma lógica que ordenar una mano de cartas cuando se juega a la escala en al karioka.\n",
    "\n",
    "Se va carta por carta o valor por valor y al seleccionarlo se ingresa a una lista de datos preordenados.\n",
    "Ej: 1,7,2,4,3,8,9\n",
    "\n",
    "En este caso lo haremos de la siguiente forma, tomaremos 1 de la lista y lo agregamos a una lista donde es el primer dato.\n",
    "\n",
    "1 | 7,2,4,3,8,9, ahora pasaremos por el 7 y lo pondremos adelante del 1.\n",
    "\n",
    "1,7 | 2,4,3,8,9 y así los datos que vamos seleccionando los vamos ingresando a la lista de la izquierda en la posición que le corresponda.\n"
   ]
  },
  {
   "cell_type": "code",
   "execution_count": null,
   "metadata": {},
   "outputs": [],
   "source": []
  }
 ]
}