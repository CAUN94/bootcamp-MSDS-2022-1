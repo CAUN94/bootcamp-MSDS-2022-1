{
 "metadata": {
  "language_info": {
   "codemirror_mode": {
    "name": "ipython",
    "version": 3
   },
   "file_extension": ".py",
   "mimetype": "text/x-python",
   "name": "python",
   "nbconvert_exporter": "python",
   "pygments_lexer": "ipython3",
   "version": "3.9.6-final"
  },
  "orig_nbformat": 2,
  "kernelspec": {
   "name": "python39264bit4ee24be30d714ff6b4e1a17c05cae8f0",
   "display_name": "Python 3.9.2 64-bit"
  }
 },
 "nbformat": 4,
 "nbformat_minor": 2,
 "cells": [
  {
   "cell_type": "markdown",
   "metadata": {},
   "source": [
    "# Merge Sort\n",
    "\n",
    "El siguiente Gif muestra como funciona el algoritmo.\n",
    "https://miro.medium.com/max/832/1*mh9np1i9PCF2F-4dSEMKuA.gif\n",
    "\n",
    "El Merge Sort u ordenamiento por mezcla es considerado una de los algoritmos más rapidos para ordenar datos, teniendo una complejidad muy baja.\n",
    "\n",
    "Tiene un nivel de complejidad mayor al Selection y Bubble, pero tiene una eficiencia mayor.\n",
    "\n",
    "El objetivo de este algoritmo es separar la lista en listas más pequeñas y después los uniremos.\n",
    "\n",
    "Para que este funcione dividiremos la lista en 2 partes iguales de izquiera a derecha y despues esas 2 nuevas listas las volvemos a dividir hasta que queden listas pares (o unitarias).\n",
    "\n",
    "Cuando lleguemos a ese punto ordenaremos las mini listas y cuando esa ya esten ordenadas empezaremos a unir las listas bajo la misma logica, tomaremos los valores y los empezaremos a organizar en una nueva lista.\n",
    "\n",
    "La lógica de este algoritmo es dividir y conquistar y veremos un par de trucos nuevos para programar."
   ]
  },
  {
   "cell_type": "code",
   "execution_count": 16,
   "metadata": {
    "tags": []
   },
   "outputs": [
    {
     "output_type": "stream",
     "name": "stdout",
     "text": "Izquierda: [1, 8, 6, 2, 7]\nDerecha: [5, 3, 4, 9, 10]\nIzquierda: [1, 8]\nDerecha: [6, 2, 7]\nIzquierda: [1]\nDerecha: [8]\nLista final es [1]\nLista nueva [1, 8]\nIzquierda: [6]\nDerecha: [2, 7]\nIzquierda: [2]\nDerecha: [7]\nLista final es [2]\nLista nueva [2, 7]\nLista final es [2]\nLista final es [2, 6]\nLista nueva [2, 6, 7]\nLista final es [1]\nLista final es [1, 2]\nLista final es [1, 2, 6]\nLista final es [1, 2, 6, 7]\nLista nueva [1, 2, 6, 7, 8]\nIzquierda: [5, 3]\nDerecha: [4, 9, 10]\nIzquierda: [5]\nDerecha: [3]\nLista final es [3]\nLista nueva [3, 5]\nIzquierda: [4]\nDerecha: [9, 10]\nIzquierda: [9]\nDerecha: [10]\nLista final es [9]\nLista nueva [9, 10]\nLista final es [4]\nLista nueva [4, 9, 10]\nLista final es [3]\nLista final es [3, 4]\nLista final es [3, 4, 5]\nLista nueva [3, 4, 5, 9, 10]\nLista final es [1]\nLista final es [1, 2]\nLista final es [1, 2, 3]\nLista final es [1, 2, 3, 4]\nLista final es [1, 2, 3, 4, 5]\nLista final es [1, 2, 3, 4, 5, 6]\nLista final es [1, 2, 3, 4, 5, 6, 7]\nLista final es [1, 2, 3, 4, 5, 6, 7, 8]\nLista nueva [1, 2, 3, 4, 5, 6, 7, 8, 9, 10]\n[1, 2, 3, 4, 5, 6, 7, 8, 9, 10]\n------\nIzquierda: [8, 5, 64]\nDerecha: [33, 2, 2, 1]\nIzquierda: [8]\nDerecha: [5, 64]\nIzquierda: [5]\nDerecha: [64]\nLista final es [5]\nLista nueva [5, 64]\nLista final es [5]\nLista final es [5, 8]\nLista nueva [5, 8, 64]\nIzquierda: [33, 2]\nDerecha: [2, 1]\nIzquierda: [33]\nDerecha: [2]\nLista final es [2]\nLista nueva [2, 33]\nIzquierda: [2]\nDerecha: [1]\nLista final es [1]\nLista nueva [1, 2]\nLista final es [1]\nLista final es [1, 2]\nLista nueva [1, 2, 2, 33]\nLista final es [1]\nLista final es [1, 2]\nLista final es [1, 2, 2]\nLista final es [1, 2, 2, 5]\nLista final es [1, 2, 2, 5, 8]\nLista final es [1, 2, 2, 5, 8, 33]\nLista nueva [1, 2, 2, 5, 8, 33, 64]\n[1, 2, 2, 5, 8, 33, 64]\n------\nIzquierda: [20, 19, 18, 17]\nDerecha: [16, 15, 14, 13, 2]\nIzquierda: [20, 19]\nDerecha: [18, 17]\nIzquierda: [20]\nDerecha: [19]\nLista final es [19]\nLista nueva [19, 20]\nIzquierda: [18]\nDerecha: [17]\nLista final es [17]\nLista nueva [17, 18]\nLista final es [17]\nLista final es [17, 18]\nLista nueva [17, 18, 19, 20]\nIzquierda: [16, 15]\nDerecha: [14, 13, 2]\nIzquierda: [16]\nDerecha: [15]\nLista final es [15]\nLista nueva [15, 16]\nIzquierda: [14]\nDerecha: [13, 2]\nIzquierda: [13]\nDerecha: [2]\nLista final es [2]\nLista nueva [2, 13]\nLista final es [2]\nLista final es [2, 13]\nLista nueva [2, 13, 14]\nLista final es [2]\nLista final es [2, 13]\nLista final es [2, 13, 14]\nLista nueva [2, 13, 14, 15, 16]\nLista final es [2]\nLista final es [2, 13]\nLista final es [2, 13, 14]\nLista final es [2, 13, 14, 15]\nLista final es [2, 13, 14, 15, 16]\nLista nueva [2, 13, 14, 15, 16, 17, 18, 19, 20]\n[2, 13, 14, 15, 16, 17, 18, 19, 20]\n"
    }
   ],
   "source": [
    "def mergeSort(lista):\n",
    "    if len(lista) < 2:\n",
    "        lista_nueva = lista \n",
    "    else:\n",
    "        mitad = len(lista) // 2\n",
    "        print(f\"Izquierda: {lista[:mitad]}\")\n",
    "        print(f\"Derecha: {lista[mitad:]}\")\n",
    "        izquierda = mergeSort(lista[:mitad])\n",
    "        derecha = mergeSort(lista[mitad:])\n",
    "        lista_nueva = merge(izquierda,derecha)\n",
    "        print(f\"Lista nueva {lista_nueva}\")\n",
    "    return lista_nueva\n",
    "\n",
    "\n",
    "def merge(lista1,lista2):\n",
    "    i = 0\n",
    "    j = 0\n",
    "    lista_final = []\n",
    "\n",
    "    while(i < len(lista1) and j < len(lista2)):\n",
    "        if (lista1[i] < lista2[j]):\n",
    "            lista_final.append(lista1[i])\n",
    "            print(f\"Lista final es {lista_final}\")\n",
    "            i += 1\n",
    "        else:\n",
    "            lista_final.append(lista2[j])\n",
    "            print(f\"Lista final es {lista_final}\")\n",
    "            j += 1\n",
    "\n",
    "    lista_final += lista1[i:]\n",
    "    lista_final += lista2[j:]\n",
    "\n",
    "    return lista_final\n",
    "\n",
    "l = [1, 8, 6, 2, 7, 5, 3, 4, 9, 10]\n",
    "\n",
    "ll = [8, 5, 64, 33, 2, 2, 1]\n",
    "\n",
    "lll = [20,19,18,17,16,15,14,13,2]\n",
    "\n",
    "print(mergeSort(l))\n",
    "print('------')\n",
    "print(mergeSort(ll))\n",
    "print('------')\n",
    "print(mergeSort(lll))"
   ]
  },
  {
   "cell_type": "code",
   "execution_count": 13,
   "metadata": {
    "tags": []
   },
   "outputs": [
    {
     "output_type": "stream",
     "name": "stdout",
     "text": "[1, 2, 3, 4, 5, 6, 7, 8, 9, 10]\n[1, 2, 2, 5, 8, 33, 64]\n[2, 13, 14, 15, 16, 17, 18, 19, 20]\n"
    }
   ],
   "source": [
    "def mergeSort(lista):\n",
    "    if len(lista) < 2:\n",
    "        lista_nueva = lista \n",
    "    else:\n",
    "        mitad = len(lista) // 2\n",
    "        izquierda = mergeSort(lista[:mitad])\n",
    "        derecha = mergeSort(lista[mitad:])\n",
    "        lista_nueva = merge(izquierda,derecha)\n",
    "    return lista_nueva\n",
    "\n",
    "\n",
    "def merge(lista1,lista2):\n",
    "    i = 0\n",
    "    j = 0\n",
    "    lista_final = []\n",
    "\n",
    "    while(i < len(lista1) and j < len(lista2)):\n",
    "        if (lista1[i] < lista2[j]):\n",
    "            lista_final.append(lista1[i])\n",
    "            i += 1\n",
    "        else:\n",
    "            lista_final.append(lista2[j])\n",
    "            j += 1\n",
    "\n",
    "    lista_final += lista1[i:]\n",
    "    lista_final += lista2[j:]\n",
    "\n",
    "    return lista_final\n",
    "\n",
    "l = [1, 8, 6, 2, 7, 5, 3, 4, 9, 10]\n",
    "\n",
    "ll = [8, 5, 64, 33, 2, 2, 1]\n",
    "\n",
    "lll = [20,19,18,17,16,15,14,13,2]\n",
    "\n",
    "print(mergeSort(l))\n",
    "print(mergeSort(ll))\n",
    "print(mergeSort(lll))"
   ]
  },
  {
   "cell_type": "code",
   "execution_count": null,
   "metadata": {},
   "outputs": [],
   "source": [
    "# Ejemplo de recursión\n",
    "\n",
    "def factorial(x):\n",
    "    if x == 1:\n",
    "        return 1\n",
    "    else:\n",
    "        return (x * factorial(x-1))\n",
    "\n",
    "\n",
    "num = 3\n",
    "print(\"El factorial de\", num, \"es\", factorial(num))\n"
   ]
  }
 ]
}