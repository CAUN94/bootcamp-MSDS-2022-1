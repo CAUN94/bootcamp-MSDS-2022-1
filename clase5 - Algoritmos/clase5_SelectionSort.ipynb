{
 "metadata": {
  "language_info": {
   "codemirror_mode": {
    "name": "ipython",
    "version": 3
   },
   "file_extension": ".py",
   "mimetype": "text/x-python",
   "name": "python",
   "nbconvert_exporter": "python",
   "pygments_lexer": "ipython3",
   "version": "3.9.6-final"
  },
  "orig_nbformat": 2,
  "kernelspec": {
   "name": "python39264bit4ee24be30d714ff6b4e1a17c05cae8f0",
   "display_name": "Python 3.9.2 64-bit"
  }
 },
 "nbformat": 4,
 "nbformat_minor": 2,
 "cells": [
  {
   "cell_type": "markdown",
   "metadata": {},
   "source": [
    "## Selection Sort\n",
    "\n",
    "Un Gif que muestra como funciona el algoritmo.\n",
    "https://miro.medium.com/max/1400/1*5WXRN62ddiM_Gcf4GDdCZg.gif\n",
    "\n",
    "El ordenamieno de selección es un algoritmo que funciona así:\n",
    "- Partimos con una lista de datos\n",
    "1,7,2,4,3,8,9\n",
    "- Ahora tomaremos el primer valor y lo comparemos con el segundo valor y verificaremos si este es más pequeño que el seleccionado y así avanzaremos hasta el final de la lista, en caso de que encuentre dato menor al seleccionado ese pasara a ser el dato que se revisa, hasta llegar al final de la lista, cuando se llegue al final el valor que fue seleccionado como el más pequeño tomara la posición inicial.\n",
    "- Despues de la primera iteracón haremos el mismo procedimiento con el segundo, tercero, etc\n",
    "\n",
    "En el caso de 1,7,2,4,3,8,9 partiremos seleccionando el 1 y llegaremos hasta el final de la lista, en este caso ningun numero era menor a 1 así que este se queda en su posición.\n",
    "\n",
    "Para la siguiente iteracón tomaremos el 7 y lo iremos comparando con todos los valores que le siguen, al compararlo con el 2 nos damos cuenta de que es menor y en vez de seguir con el 7 seguiremos haciendo las comparaciones usando el 2, en este caso llegaremos hasta el final y el valor que dejaremos registrado como menor es el 2 que intercambiara luugar con el 7.\n",
    "\n",
    "1,2,7,4,3,8,9\n",
    "\n",
    "Ahora nos toca hacer el proceso nuevamente con el 7, que primero se compara con el 4, el cual es menor, despues con el 3 que también y finalmente este ultimo llegaria hasta el final.\n",
    "\n",
    "1,2,3,4,7,8,9\n",
    "\n",
    "Ahora nos toca revisar el cuarto y quinto valor.\n",
    "7,3 igual que antes no están en el órden correcto.\n",
    "\n",
    "1,2,4,3,7,8,9\n",
    "\n",
    "Y así continuaremos hasta llegar al final del algoritmo.\n",
    "\n",
    "Creemos este algoritmo usando python.\n"
   ]
  },
  {
   "cell_type": "code",
   "execution_count": 3,
   "metadata": {
    "tags": []
   },
   "outputs": [
    {
     "output_type": "stream",
     "name": "stdout",
     "text": "Cambiamos 2 con 8\nCambiamos 3 con 6\nCambiamos 4 con 8\nCambiamos 5 con 7\nCambiamos 6 con 7\n[1, 2, 3, 4, 5, 6, 7, 8, 9, 10]\nCambiamos 1 con 8\nCambiamos 2 con 5\nCambiamos 2 con 64\nCambiamos 5 con 33\nCambiamos 8 con 33\nCambiamos 33 con 64\n[1, 2, 2, 5, 8, 33, 64]\nCambiamos 2 con 20\nCambiamos 13 con 19\nCambiamos 14 con 18\nCambiamos 15 con 17\n[2, 13, 14, 15, 16, 17, 18, 19, 20]\n"
    }
   ],
   "source": [
    "def selectionSort(lista):\n",
    "    for i in range(len(lista)):\n",
    "        indice_mas_pequeño = i\n",
    "        for j in range(i + 1, len(lista)):\n",
    "            if lista[j] < lista[indice_mas_pequeño]:\n",
    "                indice_mas_pequeño = j\n",
    "        if i != indice_mas_pequeño:\n",
    "            elemento_temporal = lista[i]\n",
    "            lista[i] = lista[indice_mas_pequeño]\n",
    "            lista[indice_mas_pequeño] = elemento_temporal\n",
    "            print(f\"Cambiamos {lista[i]} con {lista[indice_mas_pequeño]}\")\n",
    "    return print(lista)\n",
    "\n",
    "l = [1, 8, 6, 2, 7, 5, 3, 4, 9, 10]\n",
    "\n",
    "ll = [8, 5, 64, 33, 2, 2, 1]\n",
    "\n",
    "lll = [20,19,18,17,16,15,14,13,2]\n",
    "\n",
    "selectionSort(l)\n",
    "selectionSort(ll)\n",
    "selectionSort(lll)"
   ]
  },
  {
   "cell_type": "code",
   "execution_count": null,
   "metadata": {},
   "outputs": [],
   "source": [
    "def selectionSort(lista):\n",
    "    for i in range(len(lista)):\n",
    "        indice_mas_pequeño = i\n",
    "        for j in range(i + 1, len(lista)):\n",
    "            if lista[j] < lista[indice_mas_pequeño]:\n",
    "                indice_mas_pequeño = j\n",
    "        if i != indice_mas_pequeño:\n",
    "            elemento_temporal = lista[i]\n",
    "            lista[i] = lista[indice_mas_pequeño]\n",
    "            lista[indice_mas_pequeño] = elemento_temporal\n",
    "    return print(lista)\n",
    "\n",
    "l = [1, 8, 6, 2, 7, 5, 3, 4, 9, 10]\n",
    "\n",
    "ll = [8, 5, 64, 33, 2, 2, 1]\n",
    "\n",
    "lll = [20,19,18,17,16,15,14,13,2]\n",
    "\n",
    "selectionSort(l)\n",
    "selectionSort(ll)\n",
    "selectionSort(lll)"
   ]
  }
 ]
}