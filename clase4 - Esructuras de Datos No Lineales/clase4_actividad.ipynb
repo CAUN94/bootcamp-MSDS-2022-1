{
 "metadata": {
  "language_info": {
   "codemirror_mode": {
    "name": "ipython",
    "version": 3
   },
   "file_extension": ".py",
   "mimetype": "text/x-python",
   "name": "python",
   "nbconvert_exporter": "python",
   "pygments_lexer": "ipython3",
   "version": "3.9.6-final"
  },
  "orig_nbformat": 2,
  "kernelspec": {
   "name": "python39264bit4ee24be30d714ff6b4e1a17c05cae8f0",
   "display_name": "Python 3.9.2 64-bit"
  }
 },
 "nbformat": 4,
 "nbformat_minor": 2,
 "cells": [
  {
   "cell_type": "markdown",
   "metadata": {},
   "source": [
    "# Actividad\n",
    "\n",
    "Ahora que tenemos un manejo mayor en distintas estructuras de datos lineales y no lineas lo pondremos en practica.\n",
    "\n",
    "En esta deberán crear 2 estructuras sencillas:\n",
    "\n",
    "La primera se llama Queue (o cola).\n",
    "Esta es:\n",
    "- Secuencial\n",
    "- Finita\n",
    "- Flexible\n",
    "- Se encuentra bajo el principio FIFO: First in First Out\n",
    "\n",
    "FIFO: Esto significa que el primer elemento de la Cola es el primer en salir.\n",
    "\n",
    "Ejemplo:\n",
    "1,2,3,4\n",
    "Se saca un elemento\n",
    "2,3,4\n",
    "\n",
    "Bajo esta lógica debera crear la estrucutra con 2 funciones Dequeue y Enqueue\n",
    "\n",
    "Dequeue: Esta función es la encargada de eliminar un dato de la lista\n",
    "\n",
    "Ejemplo:\n",
    "1,2,3,4\n",
    "Se saca un elemento\n",
    "2,3,4\n",
    "\n",
    "Enqueue: Esta función esta encargada de agregar un dato a la lista\n",
    "\n",
    "Ejemplo:\n",
    "1,2,3,4\n",
    "Se agrega el elemento 5\n",
    "1,2,3,4,5"
   ]
  },
  {
   "cell_type": "code",
   "execution_count": null,
   "metadata": {},
   "outputs": [],
   "source": []
  },
  {
   "cell_type": "markdown",
   "metadata": {},
   "source": [
    "La segunda se llama Stack (o pila/torre). Esta es:\n",
    "\n",
    "Secuencial\n",
    "Finita\n",
    "Flexible\n",
    "Se encuentra bajo el principio LIFO: Last in First Out\n",
    "\n",
    "LIFO: Esto significa que el ultimo elemento de la Pila es el primer en salir.\n",
    "\n",
    "Ejemplo: \n",
    "\n",
    "1\n",
    "2\n",
    "3\n",
    "\n",
    "Se saca un Elemento\n",
    "\n",
    "2\n",
    "3\n",
    "\n",
    "Bajo esta lógica debera crear la estrucutra con 2 funciones Push y Pop\n",
    "\n",
    "Pop: Esta función es la encargada de eliminar un dato de la lista\n",
    "\n",
    "Ejemplo: 1,2,3,4 Se saca un elemento 2,3,4\n",
    "\n",
    "Push: Esta función esta encargada de agregar un dato a la lista\n",
    "\n",
    "Ejemplo: 1,2,3,4 Se agrega el elemento 5: 5,1,2,3,4"
   ]
  },
  {
   "cell_type": "code",
   "execution_count": null,
   "metadata": {},
   "outputs": [],
   "source": []
  }
 ]
}