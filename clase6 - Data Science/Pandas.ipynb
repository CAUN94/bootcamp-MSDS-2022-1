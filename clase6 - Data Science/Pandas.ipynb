{
 "cells": [
  {
   "cell_type": "markdown",
   "metadata": {},
   "source": [
    "# Análisis de datos con Python\n",
    "\n",
    "En esta clase veremos la herramienta de análisis de datos `pandas`. Esta herramienta es una librería que permite hacer análisis y limpieza de datos en Python. Está diseñada para trabajar con datos tabulares y heterogéneos. También es utilizada en conjunto con otras herramientas para hacer _Data Science_ como `NumPy`, `SciPy`, `matplotlib` y `scikit-learn`. El objetivo de esta clase/tutorial es tener nociones básicas de la librería `pandas` y conocer cómo esta puede hacer uso de un motor SQL.\n",
    "\n",
    "### Outline\n",
    "\n",
    "En esta clase vamos a ver:\n",
    "\n",
    "- Tópicos básicos de la librería `Pandas`:\n",
    " - El tipo `Series`\n",
    " - El tipo `DataFrame`\n",
    " - Proyecciones y filtros en un `DataFrame`\n",
    " - Importar datos desde SQL\n",
    " - Resumen de los datos\n",
    " - Manejar nulos\n",
    " - Agregación\n",
    " - Índices jerárquicos\n",
    " - Joins\n",
    "- Visualización rápida con `matplotlib`\n",
    "\n",
    "### Requisitos\n",
    "\n",
    "Para esta clase vamos a utilizar Python3 y algunas librerías externas. Las vamos a instalar utilizando pip:\n",
    "\n",
    "```\n",
    "pip3 install --upgrade jupyter matplotlib numpy pandas scipy\n",
    "```\n",
    "\n",
    "Para la parte de SQL necesitarán `psycopg2`\n",
    "\n",
    "```\n",
    "pip3 install psycopg2\n",
    "```"
   ]
  },
  {
   "cell_type": "markdown",
   "metadata": {},
   "source": [
    "Para comenzar con `pandas` estudiaremos los tipos `Series` y `DataFrame`. Partimos importando la librería:"
   ]
  },
  {
   "cell_type": "code",
   "execution_count": 3,
   "metadata": {},
   "outputs": [],
   "source": [
    "import pandas as pd"
   ]
  },
  {
   "cell_type": "markdown",
   "metadata": {},
   "source": [
    "### Series\n",
    "\n",
    "Vamos a partir instanciando objetos de tipo `Series`. Estos objetos son como arreglos unidimensionales."
   ]
  },
  {
   "cell_type": "code",
   "execution_count": null,
   "metadata": {},
   "outputs": [],
   "source": [
    "obj = pd.Series([1, 3, -4, 7])\n",
    "obj"
   ]
  },
  {
   "cell_type": "markdown",
   "metadata": {},
   "source": [
    "Para un objeto de tipo `Series` podemos agregar un label a sus índices."
   ]
  },
  {
   "cell_type": "code",
   "execution_count": null,
   "metadata": {},
   "outputs": [],
   "source": [
    "obj = pd.Series([1, 3, -4, 7], index=['d', 'c', 'b', 'a'])\n",
    "obj"
   ]
  },
  {
   "cell_type": "code",
   "execution_count": null,
   "metadata": {},
   "outputs": [],
   "source": [
    "obj['c']"
   ]
  },
  {
   "cell_type": "markdown",
   "metadata": {},
   "source": [
    "Podemos seleccionar varios elementos según el label de su índice."
   ]
  },
  {
   "cell_type": "code",
   "execution_count": null,
   "metadata": {},
   "outputs": [],
   "source": [
    "obj[['c', 'a']]"
   ]
  },
  {
   "cell_type": "code",
   "execution_count": null,
   "metadata": {},
   "outputs": [],
   "source": [
    "obj[[0, 2]]"
   ]
  },
  {
   "cell_type": "markdown",
   "metadata": {},
   "source": [
    "Podemos hacer filtros pasando un arreglo de _booleanos_:"
   ]
  },
  {
   "cell_type": "code",
   "execution_count": null,
   "metadata": {},
   "outputs": [],
   "source": [
    "obj[obj > 2]"
   ]
  },
  {
   "cell_type": "markdown",
   "metadata": {},
   "source": [
    "Recordemos lo que significaba la comparación `obj > 2` en `NumPy`. Esta comparación era una arreglo con el mismo largo que `obj` que tenía el valor `True` en todas las posiciones con valor mayor a 2."
   ]
  },
  {
   "cell_type": "code",
   "execution_count": null,
   "metadata": {},
   "outputs": [],
   "source": [
    "obj > 2"
   ]
  },
  {
   "cell_type": "markdown",
   "metadata": {},
   "source": [
    "Por lo que en `obj[obj > 2]` se muestran sólo las filas en la que el arreglo anterior era `True`.\n",
    "\n",
    "Finalmente, podemos crear un objeto `Series` a partir de un diccionario. Supongamos el siguiente diccionario de personas junto a su edad."
   ]
  },
  {
   "cell_type": "code",
   "execution_count": null,
   "metadata": {},
   "outputs": [],
   "source": [
    "people = {'Alice': 20, 'Bob': 17, 'Charles': 23, 'Dino': None}\n",
    "people_series = pd.Series(people)\n",
    "people_series"
   ]
  },
  {
   "cell_type": "markdown",
   "metadata": {},
   "source": [
    "¿Qué pasa si queremos filtrar por ciertos nombres pero algunos no existen?"
   ]
  },
  {
   "cell_type": "code",
   "execution_count": null,
   "metadata": {},
   "outputs": [],
   "source": [
    "# Esto va a arrojar error en el futuro.\n",
    "people_series[['Bob', 'Dino', 'Edward']]"
   ]
  },
  {
   "cell_type": "markdown",
   "metadata": {},
   "source": [
    "### DataFrame\n",
    "\n",
    "Un objeto de tipo `DataFrame` representa una tabla, en que cada una de sus columnas representa un tipo. Vamos a construir una tabla a partir de un diccionario."
   ]
  },
  {
   "cell_type": "code",
   "execution_count": null,
   "metadata": {},
   "outputs": [],
   "source": [
    "reg_chile = {'name': ['Metropolitana', 'Valparaiso', 'Biobío', 'Maule', 'Araucanía', 'O\\'Higgins'],\n",
    "             'pop': [7112808, 1815902, 1538194, 1044950, 957224, 914555],\n",
    "             'pib': [24850, 14510, 13281, 12695, 11064, 14840]}\n",
    "frame = pd.DataFrame(reg_chile)\n",
    "frame"
   ]
  },
  {
   "cell_type": "markdown",
   "metadata": {},
   "source": [
    "Podemos usar la función `head` para tener sólo las 5 primeras columnas del Data Frame. En este caso no es mucho aporte, pero para un Data Frame más grande no puede servir para ver cómo vienen los datos."
   ]
  },
  {
   "cell_type": "code",
   "execution_count": null,
   "metadata": {},
   "outputs": [],
   "source": [
    "frame.head()"
   ]
  },
  {
   "cell_type": "markdown",
   "metadata": {},
   "source": [
    "Podemos proyectar valores pasando el nombre de las columnas que deseamos dejar."
   ]
  },
  {
   "cell_type": "code",
   "execution_count": null,
   "metadata": {},
   "outputs": [],
   "source": [
    "frame[['name']]"
   ]
  },
  {
   "cell_type": "code",
   "execution_count": null,
   "metadata": {},
   "outputs": [],
   "source": [
    "frame[['name', 'pop']]"
   ]
  },
  {
   "cell_type": "markdown",
   "metadata": {},
   "source": [
    "Podemos seleccionar una determinada fila con la función `iloc`."
   ]
  },
  {
   "cell_type": "code",
   "execution_count": null,
   "metadata": {},
   "outputs": [],
   "source": [
    "frame.iloc[2]"
   ]
  },
  {
   "cell_type": "markdown",
   "metadata": {},
   "source": [
    "Podemos utilizar la misma idea de filtros vista anteriormente. Por ejemplo, vamos a dejar sólamente las columnas con población mayor a 1.000.000."
   ]
  },
  {
   "cell_type": "code",
   "execution_count": null,
   "metadata": {},
   "outputs": [],
   "source": [
    "frame[frame['pop'] > 1000000]"
   ]
  },
  {
   "cell_type": "markdown",
   "metadata": {},
   "source": [
    "Podemos hacer filtros con `&` para hacer un `AND`:"
   ]
  },
  {
   "cell_type": "code",
   "execution_count": null,
   "metadata": {},
   "outputs": [],
   "source": [
    "frame[(frame['pop'] > 1000000) & (frame['pib'] < 20000)]"
   ]
  },
  {
   "cell_type": "markdown",
   "metadata": {},
   "source": [
    "Y podemos usar `|` para hacer un `OR`:"
   ]
  },
  {
   "cell_type": "code",
   "execution_count": null,
   "metadata": {},
   "outputs": [],
   "source": [
    "frame[(frame['name'] == 'Metropolitana') | (frame['name'] == 'Valparaiso')]"
   ]
  },
  {
   "cell_type": "markdown",
   "metadata": {},
   "source": [
    "Existen muchas formas de crear y operar sobre un `DataFrame`. Puedes revisar la documentación para encontrar más."
   ]
  },
  {
   "cell_type": "markdown",
   "metadata": {},
   "source": [
    "### Orden sobre un Data Frame\n",
    "\n",
    "Para ordenar un objeto `DataFrame` usamos la función `sort_values` (con ascending le indicamos orden ascendente o descendente):"
   ]
  },
  {
   "cell_type": "code",
   "execution_count": null,
   "metadata": {},
   "outputs": [],
   "source": [
    "frame.sort_values(by='name', ascending=False)"
   ]
  },
  {
   "cell_type": "markdown",
   "metadata": {},
   "source": [
    "Si necesitamos ordenar por más de una columna, podemos pasar un arreglo al argumento `by`."
   ]
  },
  {
   "cell_type": "markdown",
   "metadata": {},
   "source": [
    "### Describiendo los datos\n",
    "\n",
    "La librería `pandas` tiene varias funciones que nos permiten obtener descripciones y resúmenes de los datos. Vamos a ver algunos ejemplos."
   ]
  },
  {
   "cell_type": "code",
   "execution_count": null,
   "metadata": {},
   "outputs": [],
   "source": [
    "frame.describe()"
   ]
  },
  {
   "cell_type": "code",
   "execution_count": null,
   "metadata": {},
   "outputs": [],
   "source": [
    "frame.mean()"
   ]
  },
  {
   "cell_type": "code",
   "execution_count": null,
   "metadata": {},
   "outputs": [],
   "source": [
    "frame.sum()"
   ]
  },
  {
   "cell_type": "markdown",
   "metadata": {},
   "source": [
    "### Utilizando datos externos (opcional)\n",
    "\n",
    "En `pandas` es posible importar datos en formato `.csv`, `.xlsx` entre otros. También es posible obtener los datos desde una consulta SQL. En este ejemplo vamos a suponer que existe la siguiente tabla en una base de datos PSQL:\n",
    "\n",
    "```\n",
    "Comunas(cod INT PRIMARY KEY, nombre VARCHAR(200), \n",
    "  provincia VARCHAR(200), region VARCHAR(200), \n",
    "  superficie FLOAT, poblacion INT, \n",
    "  densidad FLOAT, idh FLOAT);\n",
    "\n",
    "```\n",
    "\n",
    "En esta tabla se insertaron los datos del archivo `comunas.csv`, que puedes encontrar en el _Github_. Vamos a usar `psycopg2` para obtener los datos de esta tabla."
   ]
  },
  {
   "cell_type": "code",
   "execution_count": 13,
   "metadata": {},
   "outputs": [
    {
     "output_type": "error",
     "ename": "OperationalError",
     "evalue": "connection to server at \"localhost\" (::1), port 3306 failed: received invalid response to SSL negotiation: X\n",
     "traceback": [
      "\u001b[0;31m---------------------------------------------------------------------------\u001b[0m",
      "\u001b[0;31mOperationalError\u001b[0m                          Traceback (most recent call last)",
      "\u001b[0;32m<ipython-input-13-9551621c329f>\u001b[0m in \u001b[0;36m<module>\u001b[0;34m\u001b[0m\n\u001b[1;32m      1\u001b[0m \u001b[0;32mimport\u001b[0m \u001b[0mpsycopg2\u001b[0m\u001b[0;34m\u001b[0m\u001b[0;34m\u001b[0m\u001b[0m\n\u001b[1;32m      2\u001b[0m \u001b[0;34m\u001b[0m\u001b[0m\n\u001b[0;32m----> 3\u001b[0;31m conn = psycopg2.connect(database = \"comunas\", \n\u001b[0m\u001b[1;32m      4\u001b[0m                         \u001b[0muser\u001b[0m \u001b[0;34m=\u001b[0m \u001b[0;34m\"root\"\u001b[0m\u001b[0;34m,\u001b[0m\u001b[0;34m\u001b[0m\u001b[0;34m\u001b[0m\u001b[0m\n\u001b[1;32m      5\u001b[0m                         \u001b[0mpassword\u001b[0m \u001b[0;34m=\u001b[0m \u001b[0;34m\"\"\u001b[0m\u001b[0;34m,\u001b[0m\u001b[0;34m\u001b[0m\u001b[0;34m\u001b[0m\u001b[0m\n",
      "\u001b[0;32m/usr/local/lib/python3.9/site-packages/psycopg2/__init__.py\u001b[0m in \u001b[0;36mconnect\u001b[0;34m(dsn, connection_factory, cursor_factory, **kwargs)\u001b[0m\n\u001b[1;32m    120\u001b[0m \u001b[0;34m\u001b[0m\u001b[0m\n\u001b[1;32m    121\u001b[0m     \u001b[0mdsn\u001b[0m \u001b[0;34m=\u001b[0m \u001b[0m_ext\u001b[0m\u001b[0;34m.\u001b[0m\u001b[0mmake_dsn\u001b[0m\u001b[0;34m(\u001b[0m\u001b[0mdsn\u001b[0m\u001b[0;34m,\u001b[0m \u001b[0;34m**\u001b[0m\u001b[0mkwargs\u001b[0m\u001b[0;34m)\u001b[0m\u001b[0;34m\u001b[0m\u001b[0;34m\u001b[0m\u001b[0m\n\u001b[0;32m--> 122\u001b[0;31m     \u001b[0mconn\u001b[0m \u001b[0;34m=\u001b[0m \u001b[0m_connect\u001b[0m\u001b[0;34m(\u001b[0m\u001b[0mdsn\u001b[0m\u001b[0;34m,\u001b[0m \u001b[0mconnection_factory\u001b[0m\u001b[0;34m=\u001b[0m\u001b[0mconnection_factory\u001b[0m\u001b[0;34m,\u001b[0m \u001b[0;34m**\u001b[0m\u001b[0mkwasync\u001b[0m\u001b[0;34m)\u001b[0m\u001b[0;34m\u001b[0m\u001b[0;34m\u001b[0m\u001b[0m\n\u001b[0m\u001b[1;32m    123\u001b[0m     \u001b[0;32mif\u001b[0m \u001b[0mcursor_factory\u001b[0m \u001b[0;32mis\u001b[0m \u001b[0;32mnot\u001b[0m \u001b[0;32mNone\u001b[0m\u001b[0;34m:\u001b[0m\u001b[0;34m\u001b[0m\u001b[0;34m\u001b[0m\u001b[0m\n\u001b[1;32m    124\u001b[0m         \u001b[0mconn\u001b[0m\u001b[0;34m.\u001b[0m\u001b[0mcursor_factory\u001b[0m \u001b[0;34m=\u001b[0m \u001b[0mcursor_factory\u001b[0m\u001b[0;34m\u001b[0m\u001b[0;34m\u001b[0m\u001b[0m\n",
      "\u001b[0;31mOperationalError\u001b[0m: connection to server at \"localhost\" (::1), port 3306 failed: received invalid response to SSL negotiation: X\n"
     ]
    }
   ],
   "source": [
    "import psycopg2\n",
    "\n",
    "conn = psycopg2.connect(database = \"comunas\", \n",
    "                        user = \"root\", \n",
    "                        password = \"\", \n",
    "                        host = \"localhost\", \n",
    "                        port = \"3306\")\n",
    "\n",
    "cur = conn.cursor()\n",
    "cur.execute('SELECT * FROM Comunas')\n",
    "\n",
    "com_frame = pd.DataFrame(cur.fetchall())\n",
    "\n",
    "conn.close()"
   ]
  },
  {
   "cell_type": "markdown",
   "metadata": {},
   "source": [
    "# Importar archivos csv\n",
    "\n",
    "Ahora vamos a importar el archivo pero como csv con la función `read_csv`."
   ]
  },
  {
   "cell_type": "code",
   "execution_count": 14,
   "metadata": {},
   "outputs": [],
   "source": [
    "com_frame = pd.read_csv(\"comunas.csv\", header=None)"
   ]
  },
  {
   "cell_type": "code",
   "execution_count": 5,
   "metadata": {},
   "outputs": [
    {
     "output_type": "execute_result",
     "data": {
      "text/plain": "       0              1           2                   3       4       5  \\\n0  15101          Arica       Arica  Arica y Parinacota  4799.4  210936   \n1  15102      Camarones       Arica  Arica y Parinacota  3927.0     679   \n2  15201          Putre  Parinacota  Arica y Parinacota  5902.5    1462   \n3  15202  General Lagos  Parinacota  Arica y Parinacota  2244.4     739   \n4   1101        Iquique     Iquique            Tarapacá  2242.1  184953   \n\n       6       7  \n0  736.0   38.40  \n1    0.3  751.00  \n2    0.2  707.00  \n3    0.5    0.67  \n4   82.4  766.00  ",
      "text/html": "<div>\n<style scoped>\n    .dataframe tbody tr th:only-of-type {\n        vertical-align: middle;\n    }\n\n    .dataframe tbody tr th {\n        vertical-align: top;\n    }\n\n    .dataframe thead th {\n        text-align: right;\n    }\n</style>\n<table border=\"1\" class=\"dataframe\">\n  <thead>\n    <tr style=\"text-align: right;\">\n      <th></th>\n      <th>0</th>\n      <th>1</th>\n      <th>2</th>\n      <th>3</th>\n      <th>4</th>\n      <th>5</th>\n      <th>6</th>\n      <th>7</th>\n    </tr>\n  </thead>\n  <tbody>\n    <tr>\n      <th>0</th>\n      <td>15101</td>\n      <td>Arica</td>\n      <td>Arica</td>\n      <td>Arica y Parinacota</td>\n      <td>4799.4</td>\n      <td>210936</td>\n      <td>736.0</td>\n      <td>38.40</td>\n    </tr>\n    <tr>\n      <th>1</th>\n      <td>15102</td>\n      <td>Camarones</td>\n      <td>Arica</td>\n      <td>Arica y Parinacota</td>\n      <td>3927.0</td>\n      <td>679</td>\n      <td>0.3</td>\n      <td>751.00</td>\n    </tr>\n    <tr>\n      <th>2</th>\n      <td>15201</td>\n      <td>Putre</td>\n      <td>Parinacota</td>\n      <td>Arica y Parinacota</td>\n      <td>5902.5</td>\n      <td>1462</td>\n      <td>0.2</td>\n      <td>707.00</td>\n    </tr>\n    <tr>\n      <th>3</th>\n      <td>15202</td>\n      <td>General Lagos</td>\n      <td>Parinacota</td>\n      <td>Arica y Parinacota</td>\n      <td>2244.4</td>\n      <td>739</td>\n      <td>0.5</td>\n      <td>0.67</td>\n    </tr>\n    <tr>\n      <th>4</th>\n      <td>1101</td>\n      <td>Iquique</td>\n      <td>Iquique</td>\n      <td>Tarapacá</td>\n      <td>2242.1</td>\n      <td>184953</td>\n      <td>82.4</td>\n      <td>766.00</td>\n    </tr>\n  </tbody>\n</table>\n</div>"
     },
     "metadata": {},
     "execution_count": 5
    }
   ],
   "source": [
    "com_frame.head()"
   ]
  },
  {
   "cell_type": "code",
   "execution_count": null,
   "metadata": {},
   "outputs": [],
   "source": [
    "com_frame.describe()"
   ]
  },
  {
   "cell_type": "markdown",
   "metadata": {},
   "source": [
    "En esta tabla tenemos valores nulos. Vamos a buscarlos. Primero vamos a encontrar todas las filas que contengan algún nulo, para luego filtrar por ese arreglo."
   ]
  },
  {
   "cell_type": "code",
   "execution_count": null,
   "metadata": {},
   "outputs": [],
   "source": [
    "com_frame.isnull().any(axis=1)"
   ]
  },
  {
   "cell_type": "code",
   "execution_count": null,
   "metadata": {},
   "outputs": [],
   "source": [
    "com_frame[com_frame.isnull().any(axis=1)]"
   ]
  },
  {
   "cell_type": "markdown",
   "metadata": {},
   "source": [
    "`pandas` tiene métodos auxiliares para lidiar con datos faltantes. Uno es eliminar aquellas filas con la función `dropna()`"
   ]
  },
  {
   "cell_type": "code",
   "execution_count": null,
   "metadata": {},
   "outputs": [],
   "source": [
    "com_cleaned = com_frame.dropna()\n",
    "com_cleaned"
   ]
  },
  {
   "cell_type": "markdown",
   "metadata": {},
   "source": [
    "O podemos tomar una opción menos radical, que es reemplazar los nulos por un valor en particular."
   ]
  },
  {
   "cell_type": "code",
   "execution_count": null,
   "metadata": {},
   "outputs": [],
   "source": [
    "com_frame = com_frame.fillna(0)\n",
    "com_frame"
   ]
  },
  {
   "cell_type": "markdown",
   "metadata": {},
   "source": [
    "Existen muchas otras opciones para limpiar los datos, pero no los veremos en este tutorial."
   ]
  },
  {
   "cell_type": "markdown",
   "metadata": {},
   "source": [
    "### Agregación\n",
    "\n",
    "Vamos a ver unos ejemplos para agregar datos utilizando `pandas`. Lo primero que haremos será agregar el nombre de las columnas al Data Frame."
   ]
  },
  {
   "cell_type": "code",
   "execution_count": 15,
   "metadata": {},
   "outputs": [
    {
     "output_type": "execute_result",
     "data": {
      "text/plain": "       cod         nombre        prov                        reg     sup  \\\n0    15101          Arica       Arica         Arica y Parinacota  4799.4   \n1    15102      Camarones       Arica         Arica y Parinacota  3927.0   \n2    15201          Putre  Parinacota         Arica y Parinacota  5902.5   \n3    15202  General Lagos  Parinacota         Arica y Parinacota  2244.4   \n4     1101        Iquique     Iquique                   Tarapacá  2242.1   \n..     ...            ...         ...                        ...     ...   \n341  13601      Talagante   Talagante  Metropolitana de Santiago   126.0   \n342  13602       El Monte   Talagante  Metropolitana de Santiago   118.0   \n343  13603  Isla de Maipo   Talagante  Metropolitana de Santiago   189.0   \n344  13604  Padre Hurtado   Talagante  Metropolitana de Santiago    80.8   \n345  13605       Peñaflor   Talagante  Metropolitana de Santiago    69.0   \n\n       pobl   dens     idh  \n0    210936  736.0   38.40  \n1       679    0.3  751.00  \n2      1462    0.2  707.00  \n3       739    0.5    0.67  \n4    184953   82.4  766.00  \n..      ...    ...     ...  \n341   78887  474.6  749.00  \n342   32468  224.2  688.00  \n343   33723  136.5  724.00  \n344   50696  626.2  728.00  \n345   87741  965.5  753.00  \n\n[346 rows x 8 columns]",
      "text/html": "<div>\n<style scoped>\n    .dataframe tbody tr th:only-of-type {\n        vertical-align: middle;\n    }\n\n    .dataframe tbody tr th {\n        vertical-align: top;\n    }\n\n    .dataframe thead th {\n        text-align: right;\n    }\n</style>\n<table border=\"1\" class=\"dataframe\">\n  <thead>\n    <tr style=\"text-align: right;\">\n      <th></th>\n      <th>cod</th>\n      <th>nombre</th>\n      <th>prov</th>\n      <th>reg</th>\n      <th>sup</th>\n      <th>pobl</th>\n      <th>dens</th>\n      <th>idh</th>\n    </tr>\n  </thead>\n  <tbody>\n    <tr>\n      <th>0</th>\n      <td>15101</td>\n      <td>Arica</td>\n      <td>Arica</td>\n      <td>Arica y Parinacota</td>\n      <td>4799.4</td>\n      <td>210936</td>\n      <td>736.0</td>\n      <td>38.40</td>\n    </tr>\n    <tr>\n      <th>1</th>\n      <td>15102</td>\n      <td>Camarones</td>\n      <td>Arica</td>\n      <td>Arica y Parinacota</td>\n      <td>3927.0</td>\n      <td>679</td>\n      <td>0.3</td>\n      <td>751.00</td>\n    </tr>\n    <tr>\n      <th>2</th>\n      <td>15201</td>\n      <td>Putre</td>\n      <td>Parinacota</td>\n      <td>Arica y Parinacota</td>\n      <td>5902.5</td>\n      <td>1462</td>\n      <td>0.2</td>\n      <td>707.00</td>\n    </tr>\n    <tr>\n      <th>3</th>\n      <td>15202</td>\n      <td>General Lagos</td>\n      <td>Parinacota</td>\n      <td>Arica y Parinacota</td>\n      <td>2244.4</td>\n      <td>739</td>\n      <td>0.5</td>\n      <td>0.67</td>\n    </tr>\n    <tr>\n      <th>4</th>\n      <td>1101</td>\n      <td>Iquique</td>\n      <td>Iquique</td>\n      <td>Tarapacá</td>\n      <td>2242.1</td>\n      <td>184953</td>\n      <td>82.4</td>\n      <td>766.00</td>\n    </tr>\n    <tr>\n      <th>...</th>\n      <td>...</td>\n      <td>...</td>\n      <td>...</td>\n      <td>...</td>\n      <td>...</td>\n      <td>...</td>\n      <td>...</td>\n      <td>...</td>\n    </tr>\n    <tr>\n      <th>341</th>\n      <td>13601</td>\n      <td>Talagante</td>\n      <td>Talagante</td>\n      <td>Metropolitana de Santiago</td>\n      <td>126.0</td>\n      <td>78887</td>\n      <td>474.6</td>\n      <td>749.00</td>\n    </tr>\n    <tr>\n      <th>342</th>\n      <td>13602</td>\n      <td>El Monte</td>\n      <td>Talagante</td>\n      <td>Metropolitana de Santiago</td>\n      <td>118.0</td>\n      <td>32468</td>\n      <td>224.2</td>\n      <td>688.00</td>\n    </tr>\n    <tr>\n      <th>343</th>\n      <td>13603</td>\n      <td>Isla de Maipo</td>\n      <td>Talagante</td>\n      <td>Metropolitana de Santiago</td>\n      <td>189.0</td>\n      <td>33723</td>\n      <td>136.5</td>\n      <td>724.00</td>\n    </tr>\n    <tr>\n      <th>344</th>\n      <td>13604</td>\n      <td>Padre Hurtado</td>\n      <td>Talagante</td>\n      <td>Metropolitana de Santiago</td>\n      <td>80.8</td>\n      <td>50696</td>\n      <td>626.2</td>\n      <td>728.00</td>\n    </tr>\n    <tr>\n      <th>345</th>\n      <td>13605</td>\n      <td>Peñaflor</td>\n      <td>Talagante</td>\n      <td>Metropolitana de Santiago</td>\n      <td>69.0</td>\n      <td>87741</td>\n      <td>965.5</td>\n      <td>753.00</td>\n    </tr>\n  </tbody>\n</table>\n<p>346 rows × 8 columns</p>\n</div>"
     },
     "metadata": {},
     "execution_count": 15
    }
   ],
   "source": [
    "com_frame.columns = ['cod', 'nombre', 'prov', 'reg', 'sup', 'pobl', 'dens', 'idh']\n",
    "com_frame"
   ]
  },
  {
   "cell_type": "markdown",
   "metadata": {},
   "source": [
    "Ahora vamos a obtener la cantidad de habitantes por región."
   ]
  },
  {
   "cell_type": "code",
   "execution_count": 16,
   "metadata": {},
   "outputs": [
    {
     "output_type": "execute_result",
     "data": {
      "text/plain": "reg\nAntofagasta                             551627\nArica y Parinacota                      213816\nAtacama                                 292054\nAysén del Gral. C. Ibáñez del Campo     106893\nBiobío                                 1565839\nCoquimbo                                714856\nLa Araucanía                            933537\nLib. Gral. Bernardo O'Higgins           903248\nLos Lagos                               835829\nLos Ríos                                380618\nMagallanes y Antártica Chilena          158828\nMaule                                  1073635\nMetropolitana de Santiago              7090580\nTarapacá                                300021\nValparaíso                             1859312\nÑuble                                   460156\nName: pobl, dtype: int64"
     },
     "metadata": {},
     "execution_count": 16
    }
   ],
   "source": [
    "com_frame['pobl'].groupby(com_frame['reg']).sum() # Ojo! esto retorna un objeto Series"
   ]
  },
  {
   "cell_type": "markdown",
   "metadata": {},
   "source": [
    "Podemos preguntar cuantos elementos hay por grupo. En este caso obtendríamos el número de comunas por región."
   ]
  },
  {
   "cell_type": "code",
   "execution_count": null,
   "metadata": {},
   "outputs": [],
   "source": [
    "com_frame['nombre'].groupby(com_frame['reg']).size() # Ojo! esto retorna un objeto Series"
   ]
  },
  {
   "cell_type": "code",
   "execution_count": null,
   "metadata": {},
   "outputs": [],
   "source": [
    "com_frame['pobl'].groupby([com_frame['prov'], com_frame['reg']]).sum() # Ojo! esto retorna un objeto Series"
   ]
  },
  {
   "cell_type": "markdown",
   "metadata": {},
   "source": [
    "En `pandas` se pueden hacer operaciones mucho más complejas, pero no veremos nada avanzado en esta ocasión. Puedes revisar la documentación para ver que más puedes hacer."
   ]
  },
  {
   "cell_type": "markdown",
   "metadata": {},
   "source": [
    "### Graficando los datos\n",
    "\n",
    "Una de las ventajas de trabajar con `pandas` es que tenemos acceso rápido a herramientas de visualización. Una de ellas es la librería `matplotlib`. Vamos a ver un ejemplo rápido, haciendo un gráfico de barras de los habitantes por región."
   ]
  },
  {
   "cell_type": "code",
   "execution_count": 17,
   "metadata": {},
   "outputs": [
    {
     "output_type": "execute_result",
     "data": {
      "text/plain": "<module 'matplotlib.pyplot' from '/usr/local/lib/python3.9/site-packages/matplotlib/pyplot.py'>"
     },
     "metadata": {},
     "execution_count": 17
    },
    {
     "output_type": "display_data",
     "data": {
      "text/plain": "<Figure size 1440x720 with 1 Axes>",
      "image/svg+xml": "<?xml version=\"1.0\" encoding=\"utf-8\" standalone=\"no\"?>\n<!DOCTYPE svg PUBLIC \"-//W3C//DTD SVG 1.1//EN\"\n  \"http://www.w3.org/Graphics/SVG/1.1/DTD/svg11.dtd\">\n<svg height=\"757.6pt\" version=\"1.1\" viewBox=\"0 0 1143.7625 757.6\" width=\"1143.7625pt\" xmlns=\"http://www.w3.org/2000/svg\" xmlns:xlink=\"http://www.w3.org/1999/xlink\">\n <metadata>\n  <rdf:RDF xmlns:cc=\"http://creativecommons.org/ns#\" xmlns:dc=\"http://purl.org/dc/elements/1.1/\" xmlns:rdf=\"http://www.w3.org/1999/02/22-rdf-syntax-ns#\">\n   <cc:Work>\n    <dc:type rdf:resource=\"http://purl.org/dc/dcmitype/StillImage\"/>\n    <dc:date>2022-01-10T16:58:35.546740</dc:date>\n    <dc:format>image/svg+xml</dc:format>\n    <dc:creator>\n     <cc:Agent>\n      <dc:title>Matplotlib v3.4.1, https://matplotlib.org/</dc:title>\n     </cc:Agent>\n    </dc:creator>\n   </cc:Work>\n  </rdf:RDF>\n </metadata>\n <defs>\n  <style type=\"text/css\">*{stroke-linecap:butt;stroke-linejoin:round;}</style>\n </defs>\n <g id=\"figure_1\">\n  <g id=\"patch_1\">\n   <path d=\"M 0 757.6 \nL 1143.7625 757.6 \nL 1143.7625 0 \nL 0 0 \nz\n\" style=\"fill:none;\"/>\n  </g>\n  <g id=\"axes_1\">\n   <g id=\"patch_2\">\n    <path d=\"M 20.5625 561.398438 \nL 1136.5625 561.398438 \nL 1136.5625 17.798437 \nL 20.5625 17.798437 \nz\n\" style=\"fill:#ffffff;\"/>\n   </g>\n   <g id=\"patch_3\">\n    <path clip-path=\"url(#pad99f267fe)\" d=\"M 71.289773 561.398438 \nL 122.659163 561.398438 \nL 122.659163 521.121735 \nL 71.289773 521.121735 \nz\n\" style=\"fill:#1f77b4;\"/>\n   </g>\n   <g id=\"patch_4\">\n    <path clip-path=\"url(#pad99f267fe)\" d=\"M 135.50151 561.398438 \nL 186.8709 561.398438 \nL 186.8709 545.786795 \nL 135.50151 545.786795 \nz\n\" style=\"fill:#1f77b4;\"/>\n   </g>\n   <g id=\"patch_5\">\n    <path clip-path=\"url(#pad99f267fe)\" d=\"M 199.713248 561.398438 \nL 251.082638 561.398438 \nL 251.082638 540.074296 \nL 199.713248 540.074296 \nz\n\" style=\"fill:#1f77b4;\"/>\n   </g>\n   <g id=\"patch_6\">\n    <path clip-path=\"url(#pad99f267fe)\" d=\"M 263.924986 561.398438 \nL 315.294376 561.398438 \nL 315.294376 553.593712 \nL 263.924986 553.593712 \nz\n\" style=\"fill:#1f77b4;\"/>\n   </g>\n   <g id=\"patch_7\">\n    <path clip-path=\"url(#pad99f267fe)\" d=\"M 328.136723 561.398438 \nL 379.506113 561.398438 \nL 379.506113 447.069677 \nL 328.136723 447.069677 \nz\n\" style=\"fill:#1f77b4;\"/>\n   </g>\n   <g id=\"patch_8\">\n    <path clip-path=\"url(#pad99f267fe)\" d=\"M 392.348461 561.398438 \nL 443.717851 561.398438 \nL 443.717851 509.203672 \nL 392.348461 509.203672 \nz\n\" style=\"fill:#1f77b4;\"/>\n   </g>\n   <g id=\"patch_9\">\n    <path clip-path=\"url(#pad99f267fe)\" d=\"M 456.560199 561.398438 \nL 507.929589 561.398438 \nL 507.929589 493.236814 \nL 456.560199 493.236814 \nz\n\" style=\"fill:#1f77b4;\"/>\n   </g>\n   <g id=\"patch_10\">\n    <path clip-path=\"url(#pad99f267fe)\" d=\"M 520.771936 561.398438 \nL 572.141326 561.398438 \nL 572.141326 495.448347 \nL 520.771936 495.448347 \nz\n\" style=\"fill:#1f77b4;\"/>\n   </g>\n   <g id=\"patch_11\">\n    <path clip-path=\"url(#pad99f267fe)\" d=\"M 584.983674 561.398438 \nL 636.353064 561.398438 \nL 636.353064 500.370903 \nL 584.983674 500.370903 \nz\n\" style=\"fill:#1f77b4;\"/>\n   </g>\n   <g id=\"patch_12\">\n    <path clip-path=\"url(#pad99f267fe)\" d=\"M 649.195411 561.398438 \nL 700.564801 561.398438 \nL 700.564801 533.607851 \nL 649.195411 533.607851 \nz\n\" style=\"fill:#1f77b4;\"/>\n   </g>\n   <g id=\"patch_13\">\n    <path clip-path=\"url(#pad99f267fe)\" d=\"M 713.407149 561.398438 \nL 764.776539 561.398438 \nL 764.776539 549.80171 \nL 713.407149 549.80171 \nz\n\" style=\"fill:#1f77b4;\"/>\n   </g>\n   <g id=\"patch_14\">\n    <path clip-path=\"url(#pad99f267fe)\" d=\"M 777.618887 561.398438 \nL 828.988277 561.398438 \nL 828.988277 483.007646 \nL 777.618887 483.007646 \nz\n\" style=\"fill:#1f77b4;\"/>\n   </g>\n   <g id=\"patch_15\">\n    <path clip-path=\"url(#pad99f267fe)\" d=\"M 841.830624 561.398438 \nL 893.200014 561.398438 \nL 893.200014 43.684152 \nL 841.830624 43.684152 \nz\n\" style=\"fill:#1f77b4;\"/>\n   </g>\n   <g id=\"patch_16\">\n    <path clip-path=\"url(#pad99f267fe)\" d=\"M 906.042362 561.398438 \nL 957.411752 561.398438 \nL 957.411752 539.492591 \nL 906.042362 539.492591 \nz\n\" style=\"fill:#1f77b4;\"/>\n   </g>\n   <g id=\"patch_17\">\n    <path clip-path=\"url(#pad99f267fe)\" d=\"M 970.2541 561.398438 \nL 1021.62349 561.398438 \nL 1021.62349 425.641929 \nL 970.2541 425.641929 \nz\n\" style=\"fill:#1f77b4;\"/>\n   </g>\n   <g id=\"patch_18\">\n    <path clip-path=\"url(#pad99f267fe)\" d=\"M 1034.465837 561.398438 \nL 1085.835227 561.398438 \nL 1085.835227 527.800434 \nL 1034.465837 527.800434 \nz\n\" style=\"fill:#1f77b4;\"/>\n   </g>\n   <g id=\"matplotlib.axis_1\">\n    <g id=\"xtick_1\">\n     <g id=\"line2d_1\">\n      <defs>\n       <path d=\"M 0 0 \nL 0 3.5 \n\" id=\"ma5182b60b5\" style=\"stroke:#000000;stroke-width:0.8;\"/>\n      </defs>\n      <g>\n       <use style=\"stroke:#000000;stroke-width:0.8;\" x=\"96.974468\" xlink:href=\"#ma5182b60b5\" y=\"561.398438\"/>\n      </g>\n     </g>\n     <g id=\"text_1\">\n      <!-- Antofagasta -->\n      <g transform=\"translate(99.733843 628.998438)rotate(-90)scale(0.1 -0.1)\">\n       <defs>\n        <path d=\"M 2188 4044 \nL 1331 1722 \nL 3047 1722 \nL 2188 4044 \nz\nM 1831 4666 \nL 2547 4666 \nL 4325 0 \nL 3669 0 \nL 3244 1197 \nL 1141 1197 \nL 716 0 \nL 50 0 \nL 1831 4666 \nz\n\" id=\"DejaVuSans-41\" transform=\"scale(0.015625)\"/>\n        <path d=\"M 3513 2113 \nL 3513 0 \nL 2938 0 \nL 2938 2094 \nQ 2938 2591 2744 2837 \nQ 2550 3084 2163 3084 \nQ 1697 3084 1428 2787 \nQ 1159 2491 1159 1978 \nL 1159 0 \nL 581 0 \nL 581 3500 \nL 1159 3500 \nL 1159 2956 \nQ 1366 3272 1645 3428 \nQ 1925 3584 2291 3584 \nQ 2894 3584 3203 3211 \nQ 3513 2838 3513 2113 \nz\n\" id=\"DejaVuSans-6e\" transform=\"scale(0.015625)\"/>\n        <path d=\"M 1172 4494 \nL 1172 3500 \nL 2356 3500 \nL 2356 3053 \nL 1172 3053 \nL 1172 1153 \nQ 1172 725 1289 603 \nQ 1406 481 1766 481 \nL 2356 481 \nL 2356 0 \nL 1766 0 \nQ 1100 0 847 248 \nQ 594 497 594 1153 \nL 594 3053 \nL 172 3053 \nL 172 3500 \nL 594 3500 \nL 594 4494 \nL 1172 4494 \nz\n\" id=\"DejaVuSans-74\" transform=\"scale(0.015625)\"/>\n        <path d=\"M 1959 3097 \nQ 1497 3097 1228 2736 \nQ 959 2375 959 1747 \nQ 959 1119 1226 758 \nQ 1494 397 1959 397 \nQ 2419 397 2687 759 \nQ 2956 1122 2956 1747 \nQ 2956 2369 2687 2733 \nQ 2419 3097 1959 3097 \nz\nM 1959 3584 \nQ 2709 3584 3137 3096 \nQ 3566 2609 3566 1747 \nQ 3566 888 3137 398 \nQ 2709 -91 1959 -91 \nQ 1206 -91 779 398 \nQ 353 888 353 1747 \nQ 353 2609 779 3096 \nQ 1206 3584 1959 3584 \nz\n\" id=\"DejaVuSans-6f\" transform=\"scale(0.015625)\"/>\n        <path d=\"M 2375 4863 \nL 2375 4384 \nL 1825 4384 \nQ 1516 4384 1395 4259 \nQ 1275 4134 1275 3809 \nL 1275 3500 \nL 2222 3500 \nL 2222 3053 \nL 1275 3053 \nL 1275 0 \nL 697 0 \nL 697 3053 \nL 147 3053 \nL 147 3500 \nL 697 3500 \nL 697 3744 \nQ 697 4328 969 4595 \nQ 1241 4863 1831 4863 \nL 2375 4863 \nz\n\" id=\"DejaVuSans-66\" transform=\"scale(0.015625)\"/>\n        <path d=\"M 2194 1759 \nQ 1497 1759 1228 1600 \nQ 959 1441 959 1056 \nQ 959 750 1161 570 \nQ 1363 391 1709 391 \nQ 2188 391 2477 730 \nQ 2766 1069 2766 1631 \nL 2766 1759 \nL 2194 1759 \nz\nM 3341 1997 \nL 3341 0 \nL 2766 0 \nL 2766 531 \nQ 2569 213 2275 61 \nQ 1981 -91 1556 -91 \nQ 1019 -91 701 211 \nQ 384 513 384 1019 \nQ 384 1609 779 1909 \nQ 1175 2209 1959 2209 \nL 2766 2209 \nL 2766 2266 \nQ 2766 2663 2505 2880 \nQ 2244 3097 1772 3097 \nQ 1472 3097 1187 3025 \nQ 903 2953 641 2809 \nL 641 3341 \nQ 956 3463 1253 3523 \nQ 1550 3584 1831 3584 \nQ 2591 3584 2966 3190 \nQ 3341 2797 3341 1997 \nz\n\" id=\"DejaVuSans-61\" transform=\"scale(0.015625)\"/>\n        <path d=\"M 2906 1791 \nQ 2906 2416 2648 2759 \nQ 2391 3103 1925 3103 \nQ 1463 3103 1205 2759 \nQ 947 2416 947 1791 \nQ 947 1169 1205 825 \nQ 1463 481 1925 481 \nQ 2391 481 2648 825 \nQ 2906 1169 2906 1791 \nz\nM 3481 434 \nQ 3481 -459 3084 -895 \nQ 2688 -1331 1869 -1331 \nQ 1566 -1331 1297 -1286 \nQ 1028 -1241 775 -1147 \nL 775 -588 \nQ 1028 -725 1275 -790 \nQ 1522 -856 1778 -856 \nQ 2344 -856 2625 -561 \nQ 2906 -266 2906 331 \nL 2906 616 \nQ 2728 306 2450 153 \nQ 2172 0 1784 0 \nQ 1141 0 747 490 \nQ 353 981 353 1791 \nQ 353 2603 747 3093 \nQ 1141 3584 1784 3584 \nQ 2172 3584 2450 3431 \nQ 2728 3278 2906 2969 \nL 2906 3500 \nL 3481 3500 \nL 3481 434 \nz\n\" id=\"DejaVuSans-67\" transform=\"scale(0.015625)\"/>\n        <path d=\"M 2834 3397 \nL 2834 2853 \nQ 2591 2978 2328 3040 \nQ 2066 3103 1784 3103 \nQ 1356 3103 1142 2972 \nQ 928 2841 928 2578 \nQ 928 2378 1081 2264 \nQ 1234 2150 1697 2047 \nL 1894 2003 \nQ 2506 1872 2764 1633 \nQ 3022 1394 3022 966 \nQ 3022 478 2636 193 \nQ 2250 -91 1575 -91 \nQ 1294 -91 989 -36 \nQ 684 19 347 128 \nL 347 722 \nQ 666 556 975 473 \nQ 1284 391 1588 391 \nQ 1994 391 2212 530 \nQ 2431 669 2431 922 \nQ 2431 1156 2273 1281 \nQ 2116 1406 1581 1522 \nL 1381 1569 \nQ 847 1681 609 1914 \nQ 372 2147 372 2553 \nQ 372 3047 722 3315 \nQ 1072 3584 1716 3584 \nQ 2034 3584 2315 3537 \nQ 2597 3491 2834 3397 \nz\n\" id=\"DejaVuSans-73\" transform=\"scale(0.015625)\"/>\n       </defs>\n       <use xlink:href=\"#DejaVuSans-41\"/>\n       <use x=\"68.408203\" xlink:href=\"#DejaVuSans-6e\"/>\n       <use x=\"131.787109\" xlink:href=\"#DejaVuSans-74\"/>\n       <use x=\"170.996094\" xlink:href=\"#DejaVuSans-6f\"/>\n       <use x=\"232.177734\" xlink:href=\"#DejaVuSans-66\"/>\n       <use x=\"267.382812\" xlink:href=\"#DejaVuSans-61\"/>\n       <use x=\"328.662109\" xlink:href=\"#DejaVuSans-67\"/>\n       <use x=\"392.138672\" xlink:href=\"#DejaVuSans-61\"/>\n       <use x=\"453.417969\" xlink:href=\"#DejaVuSans-73\"/>\n       <use x=\"505.517578\" xlink:href=\"#DejaVuSans-74\"/>\n       <use x=\"544.726562\" xlink:href=\"#DejaVuSans-61\"/>\n      </g>\n     </g>\n    </g>\n    <g id=\"xtick_2\">\n     <g id=\"line2d_2\">\n      <g>\n       <use style=\"stroke:#000000;stroke-width:0.8;\" x=\"161.186205\" xlink:href=\"#ma5182b60b5\" y=\"561.398438\"/>\n      </g>\n     </g>\n     <g id=\"text_2\">\n      <!-- Arica y Parinacota -->\n      <g transform=\"translate(163.94558 658.757812)rotate(-90)scale(0.1 -0.1)\">\n       <defs>\n        <path d=\"M 2631 2963 \nQ 2534 3019 2420 3045 \nQ 2306 3072 2169 3072 \nQ 1681 3072 1420 2755 \nQ 1159 2438 1159 1844 \nL 1159 0 \nL 581 0 \nL 581 3500 \nL 1159 3500 \nL 1159 2956 \nQ 1341 3275 1631 3429 \nQ 1922 3584 2338 3584 \nQ 2397 3584 2469 3576 \nQ 2541 3569 2628 3553 \nL 2631 2963 \nz\n\" id=\"DejaVuSans-72\" transform=\"scale(0.015625)\"/>\n        <path d=\"M 603 3500 \nL 1178 3500 \nL 1178 0 \nL 603 0 \nL 603 3500 \nz\nM 603 4863 \nL 1178 4863 \nL 1178 4134 \nL 603 4134 \nL 603 4863 \nz\n\" id=\"DejaVuSans-69\" transform=\"scale(0.015625)\"/>\n        <path d=\"M 3122 3366 \nL 3122 2828 \nQ 2878 2963 2633 3030 \nQ 2388 3097 2138 3097 \nQ 1578 3097 1268 2742 \nQ 959 2388 959 1747 \nQ 959 1106 1268 751 \nQ 1578 397 2138 397 \nQ 2388 397 2633 464 \nQ 2878 531 3122 666 \nL 3122 134 \nQ 2881 22 2623 -34 \nQ 2366 -91 2075 -91 \nQ 1284 -91 818 406 \nQ 353 903 353 1747 \nQ 353 2603 823 3093 \nQ 1294 3584 2113 3584 \nQ 2378 3584 2631 3529 \nQ 2884 3475 3122 3366 \nz\n\" id=\"DejaVuSans-63\" transform=\"scale(0.015625)\"/>\n        <path id=\"DejaVuSans-20\" transform=\"scale(0.015625)\"/>\n        <path d=\"M 2059 -325 \nQ 1816 -950 1584 -1140 \nQ 1353 -1331 966 -1331 \nL 506 -1331 \nL 506 -850 \nL 844 -850 \nQ 1081 -850 1212 -737 \nQ 1344 -625 1503 -206 \nL 1606 56 \nL 191 3500 \nL 800 3500 \nL 1894 763 \nL 2988 3500 \nL 3597 3500 \nL 2059 -325 \nz\n\" id=\"DejaVuSans-79\" transform=\"scale(0.015625)\"/>\n        <path d=\"M 1259 4147 \nL 1259 2394 \nL 2053 2394 \nQ 2494 2394 2734 2622 \nQ 2975 2850 2975 3272 \nQ 2975 3691 2734 3919 \nQ 2494 4147 2053 4147 \nL 1259 4147 \nz\nM 628 4666 \nL 2053 4666 \nQ 2838 4666 3239 4311 \nQ 3641 3956 3641 3272 \nQ 3641 2581 3239 2228 \nQ 2838 1875 2053 1875 \nL 1259 1875 \nL 1259 0 \nL 628 0 \nL 628 4666 \nz\n\" id=\"DejaVuSans-50\" transform=\"scale(0.015625)\"/>\n       </defs>\n       <use xlink:href=\"#DejaVuSans-41\"/>\n       <use x=\"68.408203\" xlink:href=\"#DejaVuSans-72\"/>\n       <use x=\"109.521484\" xlink:href=\"#DejaVuSans-69\"/>\n       <use x=\"137.304688\" xlink:href=\"#DejaVuSans-63\"/>\n       <use x=\"192.285156\" xlink:href=\"#DejaVuSans-61\"/>\n       <use x=\"253.564453\" xlink:href=\"#DejaVuSans-20\"/>\n       <use x=\"285.351562\" xlink:href=\"#DejaVuSans-79\"/>\n       <use x=\"344.53125\" xlink:href=\"#DejaVuSans-20\"/>\n       <use x=\"376.318359\" xlink:href=\"#DejaVuSans-50\"/>\n       <use x=\"432.121094\" xlink:href=\"#DejaVuSans-61\"/>\n       <use x=\"493.400391\" xlink:href=\"#DejaVuSans-72\"/>\n       <use x=\"534.513672\" xlink:href=\"#DejaVuSans-69\"/>\n       <use x=\"562.296875\" xlink:href=\"#DejaVuSans-6e\"/>\n       <use x=\"625.675781\" xlink:href=\"#DejaVuSans-61\"/>\n       <use x=\"686.955078\" xlink:href=\"#DejaVuSans-63\"/>\n       <use x=\"741.935547\" xlink:href=\"#DejaVuSans-6f\"/>\n       <use x=\"803.117188\" xlink:href=\"#DejaVuSans-74\"/>\n       <use x=\"842.326172\" xlink:href=\"#DejaVuSans-61\"/>\n      </g>\n     </g>\n    </g>\n    <g id=\"xtick_3\">\n     <g id=\"line2d_3\">\n      <g>\n       <use style=\"stroke:#000000;stroke-width:0.8;\" x=\"225.397943\" xlink:href=\"#ma5182b60b5\" y=\"561.398438\"/>\n      </g>\n     </g>\n     <g id=\"text_3\">\n      <!-- Atacama -->\n      <g transform=\"translate(228.157318 612.607813)rotate(-90)scale(0.1 -0.1)\">\n       <defs>\n        <path d=\"M 3328 2828 \nQ 3544 3216 3844 3400 \nQ 4144 3584 4550 3584 \nQ 5097 3584 5394 3201 \nQ 5691 2819 5691 2113 \nL 5691 0 \nL 5113 0 \nL 5113 2094 \nQ 5113 2597 4934 2840 \nQ 4756 3084 4391 3084 \nQ 3944 3084 3684 2787 \nQ 3425 2491 3425 1978 \nL 3425 0 \nL 2847 0 \nL 2847 2094 \nQ 2847 2600 2669 2842 \nQ 2491 3084 2119 3084 \nQ 1678 3084 1418 2786 \nQ 1159 2488 1159 1978 \nL 1159 0 \nL 581 0 \nL 581 3500 \nL 1159 3500 \nL 1159 2956 \nQ 1356 3278 1631 3431 \nQ 1906 3584 2284 3584 \nQ 2666 3584 2933 3390 \nQ 3200 3197 3328 2828 \nz\n\" id=\"DejaVuSans-6d\" transform=\"scale(0.015625)\"/>\n       </defs>\n       <use xlink:href=\"#DejaVuSans-41\"/>\n       <use x=\"66.658203\" xlink:href=\"#DejaVuSans-74\"/>\n       <use x=\"105.867188\" xlink:href=\"#DejaVuSans-61\"/>\n       <use x=\"167.146484\" xlink:href=\"#DejaVuSans-63\"/>\n       <use x=\"222.126953\" xlink:href=\"#DejaVuSans-61\"/>\n       <use x=\"283.40625\" xlink:href=\"#DejaVuSans-6d\"/>\n       <use x=\"380.818359\" xlink:href=\"#DejaVuSans-61\"/>\n      </g>\n     </g>\n    </g>\n    <g id=\"xtick_4\">\n     <g id=\"line2d_4\">\n      <g>\n       <use style=\"stroke:#000000;stroke-width:0.8;\" x=\"289.609681\" xlink:href=\"#ma5182b60b5\" y=\"561.398438\"/>\n      </g>\n     </g>\n     <g id=\"text_4\">\n      <!-- Aysén del Gral. C. Ibáñez del Campo -->\n      <g transform=\"translate(292.569056 750.4)rotate(-90)scale(0.1 -0.1)\">\n       <defs>\n        <path d=\"M 3597 1894 \nL 3597 1613 \nL 953 1613 \nQ 991 1019 1311 708 \nQ 1631 397 2203 397 \nQ 2534 397 2845 478 \nQ 3156 559 3463 722 \nL 3463 178 \nQ 3153 47 2828 -22 \nQ 2503 -91 2169 -91 \nQ 1331 -91 842 396 \nQ 353 884 353 1716 \nQ 353 2575 817 3079 \nQ 1281 3584 2069 3584 \nQ 2775 3584 3186 3129 \nQ 3597 2675 3597 1894 \nz\nM 3022 2063 \nQ 3016 2534 2758 2815 \nQ 2500 3097 2075 3097 \nQ 1594 3097 1305 2825 \nQ 1016 2553 972 2059 \nL 3022 2063 \nz\nM 2466 5119 \nL 3088 5119 \nL 2070 3944 \nL 1591 3944 \nL 2466 5119 \nz\n\" id=\"DejaVuSans-e9\" transform=\"scale(0.015625)\"/>\n        <path d=\"M 2906 2969 \nL 2906 4863 \nL 3481 4863 \nL 3481 0 \nL 2906 0 \nL 2906 525 \nQ 2725 213 2448 61 \nQ 2172 -91 1784 -91 \nQ 1150 -91 751 415 \nQ 353 922 353 1747 \nQ 353 2572 751 3078 \nQ 1150 3584 1784 3584 \nQ 2172 3584 2448 3432 \nQ 2725 3281 2906 2969 \nz\nM 947 1747 \nQ 947 1113 1208 752 \nQ 1469 391 1925 391 \nQ 2381 391 2643 752 \nQ 2906 1113 2906 1747 \nQ 2906 2381 2643 2742 \nQ 2381 3103 1925 3103 \nQ 1469 3103 1208 2742 \nQ 947 2381 947 1747 \nz\n\" id=\"DejaVuSans-64\" transform=\"scale(0.015625)\"/>\n        <path d=\"M 3597 1894 \nL 3597 1613 \nL 953 1613 \nQ 991 1019 1311 708 \nQ 1631 397 2203 397 \nQ 2534 397 2845 478 \nQ 3156 559 3463 722 \nL 3463 178 \nQ 3153 47 2828 -22 \nQ 2503 -91 2169 -91 \nQ 1331 -91 842 396 \nQ 353 884 353 1716 \nQ 353 2575 817 3079 \nQ 1281 3584 2069 3584 \nQ 2775 3584 3186 3129 \nQ 3597 2675 3597 1894 \nz\nM 3022 2063 \nQ 3016 2534 2758 2815 \nQ 2500 3097 2075 3097 \nQ 1594 3097 1305 2825 \nQ 1016 2553 972 2059 \nL 3022 2063 \nz\n\" id=\"DejaVuSans-65\" transform=\"scale(0.015625)\"/>\n        <path d=\"M 603 4863 \nL 1178 4863 \nL 1178 0 \nL 603 0 \nL 603 4863 \nz\n\" id=\"DejaVuSans-6c\" transform=\"scale(0.015625)\"/>\n        <path d=\"M 3809 666 \nL 3809 1919 \nL 2778 1919 \nL 2778 2438 \nL 4434 2438 \nL 4434 434 \nQ 4069 175 3628 42 \nQ 3188 -91 2688 -91 \nQ 1594 -91 976 548 \nQ 359 1188 359 2328 \nQ 359 3472 976 4111 \nQ 1594 4750 2688 4750 \nQ 3144 4750 3555 4637 \nQ 3966 4525 4313 4306 \nL 4313 3634 \nQ 3963 3931 3569 4081 \nQ 3175 4231 2741 4231 \nQ 1884 4231 1454 3753 \nQ 1025 3275 1025 2328 \nQ 1025 1384 1454 906 \nQ 1884 428 2741 428 \nQ 3075 428 3337 486 \nQ 3600 544 3809 666 \nz\n\" id=\"DejaVuSans-47\" transform=\"scale(0.015625)\"/>\n        <path d=\"M 684 794 \nL 1344 794 \nL 1344 0 \nL 684 0 \nL 684 794 \nz\n\" id=\"DejaVuSans-2e\" transform=\"scale(0.015625)\"/>\n        <path d=\"M 4122 4306 \nL 4122 3641 \nQ 3803 3938 3442 4084 \nQ 3081 4231 2675 4231 \nQ 1875 4231 1450 3742 \nQ 1025 3253 1025 2328 \nQ 1025 1406 1450 917 \nQ 1875 428 2675 428 \nQ 3081 428 3442 575 \nQ 3803 722 4122 1019 \nL 4122 359 \nQ 3791 134 3420 21 \nQ 3050 -91 2638 -91 \nQ 1578 -91 968 557 \nQ 359 1206 359 2328 \nQ 359 3453 968 4101 \nQ 1578 4750 2638 4750 \nQ 3056 4750 3426 4639 \nQ 3797 4528 4122 4306 \nz\n\" id=\"DejaVuSans-43\" transform=\"scale(0.015625)\"/>\n        <path d=\"M 628 4666 \nL 1259 4666 \nL 1259 0 \nL 628 0 \nL 628 4666 \nz\n\" id=\"DejaVuSans-49\" transform=\"scale(0.015625)\"/>\n        <path d=\"M 3116 1747 \nQ 3116 2381 2855 2742 \nQ 2594 3103 2138 3103 \nQ 1681 3103 1420 2742 \nQ 1159 2381 1159 1747 \nQ 1159 1113 1420 752 \nQ 1681 391 2138 391 \nQ 2594 391 2855 752 \nQ 3116 1113 3116 1747 \nz\nM 1159 2969 \nQ 1341 3281 1617 3432 \nQ 1894 3584 2278 3584 \nQ 2916 3584 3314 3078 \nQ 3713 2572 3713 1747 \nQ 3713 922 3314 415 \nQ 2916 -91 2278 -91 \nQ 1894 -91 1617 61 \nQ 1341 213 1159 525 \nL 1159 0 \nL 581 0 \nL 581 4863 \nL 1159 4863 \nL 1159 2969 \nz\n\" id=\"DejaVuSans-62\" transform=\"scale(0.015625)\"/>\n        <path d=\"M 2194 1759 \nQ 1497 1759 1228 1600 \nQ 959 1441 959 1056 \nQ 959 750 1161 570 \nQ 1363 391 1709 391 \nQ 2188 391 2477 730 \nQ 2766 1069 2766 1631 \nL 2766 1759 \nL 2194 1759 \nz\nM 3341 1997 \nL 3341 0 \nL 2766 0 \nL 2766 531 \nQ 2569 213 2275 61 \nQ 1981 -91 1556 -91 \nQ 1019 -91 701 211 \nQ 384 513 384 1019 \nQ 384 1609 779 1909 \nQ 1175 2209 1959 2209 \nL 2766 2209 \nL 2766 2266 \nQ 2766 2663 2505 2880 \nQ 2244 3097 1772 3097 \nQ 1472 3097 1187 3025 \nQ 903 2953 641 2809 \nL 641 3341 \nQ 956 3463 1253 3523 \nQ 1550 3584 1831 3584 \nQ 2591 3584 2966 3190 \nQ 3341 2797 3341 1997 \nz\nM 2290 5119 \nL 2912 5119 \nL 1894 3944 \nL 1415 3944 \nL 2290 5119 \nz\n\" id=\"DejaVuSans-e1\" transform=\"scale(0.015625)\"/>\n        <path d=\"M 3513 2113 \nL 3513 0 \nL 2938 0 \nL 2938 2094 \nQ 2938 2591 2744 2837 \nQ 2550 3084 2163 3084 \nQ 1697 3084 1428 2787 \nQ 1159 2491 1159 1978 \nL 1159 0 \nL 581 0 \nL 581 3500 \nL 1159 3500 \nL 1159 2956 \nQ 1366 3272 1645 3428 \nQ 1925 3584 2291 3584 \nQ 2894 3584 3203 3211 \nQ 3513 2838 3513 2113 \nz\nM 2060 4281 \nL 1881 4453 \nQ 1813 4516 1761 4545 \nQ 1710 4575 1669 4575 \nQ 1550 4575 1494 4461 \nQ 1438 4347 1431 4091 \nL 1041 4091 \nQ 1047 4513 1206 4742 \nQ 1366 4972 1650 4972 \nQ 1769 4972 1869 4928 \nQ 1969 4884 2085 4781 \nL 2263 4609 \nQ 2331 4547 2383 4517 \nQ 2435 4488 2475 4488 \nQ 2594 4488 2650 4602 \nQ 2706 4716 2713 4972 \nL 3103 4972 \nQ 3097 4550 2937 4320 \nQ 2778 4091 2494 4091 \nQ 2375 4091 2275 4134 \nQ 2175 4178 2060 4281 \nz\n\" id=\"DejaVuSans-f1\" transform=\"scale(0.015625)\"/>\n        <path d=\"M 353 3500 \nL 3084 3500 \nL 3084 2975 \nL 922 459 \nL 3084 459 \nL 3084 0 \nL 275 0 \nL 275 525 \nL 2438 3041 \nL 353 3041 \nL 353 3500 \nz\n\" id=\"DejaVuSans-7a\" transform=\"scale(0.015625)\"/>\n        <path d=\"M 1159 525 \nL 1159 -1331 \nL 581 -1331 \nL 581 3500 \nL 1159 3500 \nL 1159 2969 \nQ 1341 3281 1617 3432 \nQ 1894 3584 2278 3584 \nQ 2916 3584 3314 3078 \nQ 3713 2572 3713 1747 \nQ 3713 922 3314 415 \nQ 2916 -91 2278 -91 \nQ 1894 -91 1617 61 \nQ 1341 213 1159 525 \nz\nM 3116 1747 \nQ 3116 2381 2855 2742 \nQ 2594 3103 2138 3103 \nQ 1681 3103 1420 2742 \nQ 1159 2381 1159 1747 \nQ 1159 1113 1420 752 \nQ 1681 391 2138 391 \nQ 2594 391 2855 752 \nQ 3116 1113 3116 1747 \nz\n\" id=\"DejaVuSans-70\" transform=\"scale(0.015625)\"/>\n       </defs>\n       <use xlink:href=\"#DejaVuSans-41\"/>\n       <use x=\"61.658203\" xlink:href=\"#DejaVuSans-79\"/>\n       <use x=\"120.837891\" xlink:href=\"#DejaVuSans-73\"/>\n       <use x=\"172.9375\" xlink:href=\"#DejaVuSans-e9\"/>\n       <use x=\"234.460938\" xlink:href=\"#DejaVuSans-6e\"/>\n       <use x=\"297.839844\" xlink:href=\"#DejaVuSans-20\"/>\n       <use x=\"329.626953\" xlink:href=\"#DejaVuSans-64\"/>\n       <use x=\"393.103516\" xlink:href=\"#DejaVuSans-65\"/>\n       <use x=\"454.626953\" xlink:href=\"#DejaVuSans-6c\"/>\n       <use x=\"482.410156\" xlink:href=\"#DejaVuSans-20\"/>\n       <use x=\"514.197266\" xlink:href=\"#DejaVuSans-47\"/>\n       <use x=\"591.6875\" xlink:href=\"#DejaVuSans-72\"/>\n       <use x=\"632.800781\" xlink:href=\"#DejaVuSans-61\"/>\n       <use x=\"694.080078\" xlink:href=\"#DejaVuSans-6c\"/>\n       <use x=\"721.863281\" xlink:href=\"#DejaVuSans-2e\"/>\n       <use x=\"753.650391\" xlink:href=\"#DejaVuSans-20\"/>\n       <use x=\"785.4375\" xlink:href=\"#DejaVuSans-43\"/>\n       <use x=\"855.261719\" xlink:href=\"#DejaVuSans-2e\"/>\n       <use x=\"887.048828\" xlink:href=\"#DejaVuSans-20\"/>\n       <use x=\"918.835938\" xlink:href=\"#DejaVuSans-49\"/>\n       <use x=\"948.328125\" xlink:href=\"#DejaVuSans-62\"/>\n       <use x=\"1011.804688\" xlink:href=\"#DejaVuSans-e1\"/>\n       <use x=\"1073.083984\" xlink:href=\"#DejaVuSans-f1\"/>\n       <use x=\"1136.462891\" xlink:href=\"#DejaVuSans-65\"/>\n       <use x=\"1197.986328\" xlink:href=\"#DejaVuSans-7a\"/>\n       <use x=\"1250.476562\" xlink:href=\"#DejaVuSans-20\"/>\n       <use x=\"1282.263672\" xlink:href=\"#DejaVuSans-64\"/>\n       <use x=\"1345.740234\" xlink:href=\"#DejaVuSans-65\"/>\n       <use x=\"1407.263672\" xlink:href=\"#DejaVuSans-6c\"/>\n       <use x=\"1435.046875\" xlink:href=\"#DejaVuSans-20\"/>\n       <use x=\"1466.833984\" xlink:href=\"#DejaVuSans-43\"/>\n       <use x=\"1536.658203\" xlink:href=\"#DejaVuSans-61\"/>\n       <use x=\"1597.9375\" xlink:href=\"#DejaVuSans-6d\"/>\n       <use x=\"1695.349609\" xlink:href=\"#DejaVuSans-70\"/>\n       <use x=\"1758.826172\" xlink:href=\"#DejaVuSans-6f\"/>\n      </g>\n     </g>\n    </g>\n    <g id=\"xtick_5\">\n     <g id=\"line2d_5\">\n      <g>\n       <use style=\"stroke:#000000;stroke-width:0.8;\" x=\"353.821418\" xlink:href=\"#ma5182b60b5\" y=\"561.398438\"/>\n      </g>\n     </g>\n     <g id=\"text_5\">\n      <!-- Biobío -->\n      <g transform=\"translate(356.580793 599.401563)rotate(-90)scale(0.1 -0.1)\">\n       <defs>\n        <path d=\"M 1259 2228 \nL 1259 519 \nL 2272 519 \nQ 2781 519 3026 730 \nQ 3272 941 3272 1375 \nQ 3272 1813 3026 2020 \nQ 2781 2228 2272 2228 \nL 1259 2228 \nz\nM 1259 4147 \nL 1259 2741 \nL 2194 2741 \nQ 2656 2741 2882 2914 \nQ 3109 3088 3109 3444 \nQ 3109 3797 2882 3972 \nQ 2656 4147 2194 4147 \nL 1259 4147 \nz\nM 628 4666 \nL 2241 4666 \nQ 2963 4666 3353 4366 \nQ 3744 4066 3744 3513 \nQ 3744 3084 3544 2831 \nQ 3344 2578 2956 2516 \nQ 3422 2416 3680 2098 \nQ 3938 1781 3938 1306 \nQ 3938 681 3513 340 \nQ 3088 0 2303 0 \nL 628 0 \nL 628 4666 \nz\n\" id=\"DejaVuSans-42\" transform=\"scale(0.015625)\"/>\n        <path d=\"M 1322 5119 \nL 1944 5119 \nL 926 3944 \nL 447 3944 \nL 1322 5119 \nz\nM 603 3500 \nL 1178 3500 \nL 1178 0 \nL 603 0 \nL 603 3500 \nz\nM 891 3584 \nL 891 3584 \nz\n\" id=\"DejaVuSans-ed\" transform=\"scale(0.015625)\"/>\n       </defs>\n       <use xlink:href=\"#DejaVuSans-42\"/>\n       <use x=\"68.603516\" xlink:href=\"#DejaVuSans-69\"/>\n       <use x=\"96.386719\" xlink:href=\"#DejaVuSans-6f\"/>\n       <use x=\"157.568359\" xlink:href=\"#DejaVuSans-62\"/>\n       <use x=\"221.044922\" xlink:href=\"#DejaVuSans-ed\"/>\n       <use x=\"248.828125\" xlink:href=\"#DejaVuSans-6f\"/>\n      </g>\n     </g>\n    </g>\n    <g id=\"xtick_6\">\n     <g id=\"line2d_6\">\n      <g>\n       <use style=\"stroke:#000000;stroke-width:0.8;\" x=\"418.033156\" xlink:href=\"#ma5182b60b5\" y=\"561.398438\"/>\n      </g>\n     </g>\n     <g id=\"text_6\">\n      <!-- Coquimbo -->\n      <g transform=\"translate(420.792531 619.171875)rotate(-90)scale(0.1 -0.1)\">\n       <defs>\n        <path d=\"M 947 1747 \nQ 947 1113 1208 752 \nQ 1469 391 1925 391 \nQ 2381 391 2643 752 \nQ 2906 1113 2906 1747 \nQ 2906 2381 2643 2742 \nQ 2381 3103 1925 3103 \nQ 1469 3103 1208 2742 \nQ 947 2381 947 1747 \nz\nM 2906 525 \nQ 2725 213 2448 61 \nQ 2172 -91 1784 -91 \nQ 1150 -91 751 415 \nQ 353 922 353 1747 \nQ 353 2572 751 3078 \nQ 1150 3584 1784 3584 \nQ 2172 3584 2448 3432 \nQ 2725 3281 2906 2969 \nL 2906 3500 \nL 3481 3500 \nL 3481 -1331 \nL 2906 -1331 \nL 2906 525 \nz\n\" id=\"DejaVuSans-71\" transform=\"scale(0.015625)\"/>\n        <path d=\"M 544 1381 \nL 544 3500 \nL 1119 3500 \nL 1119 1403 \nQ 1119 906 1312 657 \nQ 1506 409 1894 409 \nQ 2359 409 2629 706 \nQ 2900 1003 2900 1516 \nL 2900 3500 \nL 3475 3500 \nL 3475 0 \nL 2900 0 \nL 2900 538 \nQ 2691 219 2414 64 \nQ 2138 -91 1772 -91 \nQ 1169 -91 856 284 \nQ 544 659 544 1381 \nz\nM 1991 3584 \nL 1991 3584 \nz\n\" id=\"DejaVuSans-75\" transform=\"scale(0.015625)\"/>\n       </defs>\n       <use xlink:href=\"#DejaVuSans-43\"/>\n       <use x=\"69.824219\" xlink:href=\"#DejaVuSans-6f\"/>\n       <use x=\"131.005859\" xlink:href=\"#DejaVuSans-71\"/>\n       <use x=\"194.482422\" xlink:href=\"#DejaVuSans-75\"/>\n       <use x=\"257.861328\" xlink:href=\"#DejaVuSans-69\"/>\n       <use x=\"285.644531\" xlink:href=\"#DejaVuSans-6d\"/>\n       <use x=\"383.056641\" xlink:href=\"#DejaVuSans-62\"/>\n       <use x=\"446.533203\" xlink:href=\"#DejaVuSans-6f\"/>\n      </g>\n     </g>\n    </g>\n    <g id=\"xtick_7\">\n     <g id=\"line2d_7\">\n      <g>\n       <use style=\"stroke:#000000;stroke-width:0.8;\" x=\"482.244894\" xlink:href=\"#ma5182b60b5\" y=\"561.398438\"/>\n      </g>\n     </g>\n     <g id=\"text_7\">\n      <!-- La Araucanía -->\n      <g transform=\"translate(485.004269 633.564063)rotate(-90)scale(0.1 -0.1)\">\n       <defs>\n        <path d=\"M 628 4666 \nL 1259 4666 \nL 1259 531 \nL 3531 531 \nL 3531 0 \nL 628 0 \nL 628 4666 \nz\n\" id=\"DejaVuSans-4c\" transform=\"scale(0.015625)\"/>\n       </defs>\n       <use xlink:href=\"#DejaVuSans-4c\"/>\n       <use x=\"55.712891\" xlink:href=\"#DejaVuSans-61\"/>\n       <use x=\"116.992188\" xlink:href=\"#DejaVuSans-20\"/>\n       <use x=\"148.779297\" xlink:href=\"#DejaVuSans-41\"/>\n       <use x=\"217.1875\" xlink:href=\"#DejaVuSans-72\"/>\n       <use x=\"258.300781\" xlink:href=\"#DejaVuSans-61\"/>\n       <use x=\"319.580078\" xlink:href=\"#DejaVuSans-75\"/>\n       <use x=\"382.958984\" xlink:href=\"#DejaVuSans-63\"/>\n       <use x=\"437.939453\" xlink:href=\"#DejaVuSans-61\"/>\n       <use x=\"499.21875\" xlink:href=\"#DejaVuSans-6e\"/>\n       <use x=\"562.597656\" xlink:href=\"#DejaVuSans-ed\"/>\n       <use x=\"590.380859\" xlink:href=\"#DejaVuSans-61\"/>\n      </g>\n     </g>\n    </g>\n    <g id=\"xtick_8\">\n     <g id=\"line2d_8\">\n      <g>\n       <use style=\"stroke:#000000;stroke-width:0.8;\" x=\"546.456631\" xlink:href=\"#ma5182b60b5\" y=\"561.398438\"/>\n      </g>\n     </g>\n     <g id=\"text_8\">\n      <!-- Lib. Gral. Bernardo O'Higgins -->\n      <g transform=\"translate(549.216006 713.5125)rotate(-90)scale(0.1 -0.1)\">\n       <defs>\n        <path d=\"M 2522 4238 \nQ 1834 4238 1429 3725 \nQ 1025 3213 1025 2328 \nQ 1025 1447 1429 934 \nQ 1834 422 2522 422 \nQ 3209 422 3611 934 \nQ 4013 1447 4013 2328 \nQ 4013 3213 3611 3725 \nQ 3209 4238 2522 4238 \nz\nM 2522 4750 \nQ 3503 4750 4090 4092 \nQ 4678 3434 4678 2328 \nQ 4678 1225 4090 567 \nQ 3503 -91 2522 -91 \nQ 1538 -91 948 565 \nQ 359 1222 359 2328 \nQ 359 3434 948 4092 \nQ 1538 4750 2522 4750 \nz\n\" id=\"DejaVuSans-4f\" transform=\"scale(0.015625)\"/>\n        <path d=\"M 1147 4666 \nL 1147 2931 \nL 616 2931 \nL 616 4666 \nL 1147 4666 \nz\n\" id=\"DejaVuSans-27\" transform=\"scale(0.015625)\"/>\n        <path d=\"M 628 4666 \nL 1259 4666 \nL 1259 2753 \nL 3553 2753 \nL 3553 4666 \nL 4184 4666 \nL 4184 0 \nL 3553 0 \nL 3553 2222 \nL 1259 2222 \nL 1259 0 \nL 628 0 \nL 628 4666 \nz\n\" id=\"DejaVuSans-48\" transform=\"scale(0.015625)\"/>\n       </defs>\n       <use xlink:href=\"#DejaVuSans-4c\"/>\n       <use x=\"55.712891\" xlink:href=\"#DejaVuSans-69\"/>\n       <use x=\"83.496094\" xlink:href=\"#DejaVuSans-62\"/>\n       <use x=\"146.972656\" xlink:href=\"#DejaVuSans-2e\"/>\n       <use x=\"178.759766\" xlink:href=\"#DejaVuSans-20\"/>\n       <use x=\"210.546875\" xlink:href=\"#DejaVuSans-47\"/>\n       <use x=\"288.037109\" xlink:href=\"#DejaVuSans-72\"/>\n       <use x=\"329.150391\" xlink:href=\"#DejaVuSans-61\"/>\n       <use x=\"390.429688\" xlink:href=\"#DejaVuSans-6c\"/>\n       <use x=\"418.212891\" xlink:href=\"#DejaVuSans-2e\"/>\n       <use x=\"450\" xlink:href=\"#DejaVuSans-20\"/>\n       <use x=\"481.787109\" xlink:href=\"#DejaVuSans-42\"/>\n       <use x=\"550.390625\" xlink:href=\"#DejaVuSans-65\"/>\n       <use x=\"611.914062\" xlink:href=\"#DejaVuSans-72\"/>\n       <use x=\"651.277344\" xlink:href=\"#DejaVuSans-6e\"/>\n       <use x=\"714.65625\" xlink:href=\"#DejaVuSans-61\"/>\n       <use x=\"775.935547\" xlink:href=\"#DejaVuSans-72\"/>\n       <use x=\"815.298828\" xlink:href=\"#DejaVuSans-64\"/>\n       <use x=\"878.775391\" xlink:href=\"#DejaVuSans-6f\"/>\n       <use x=\"939.957031\" xlink:href=\"#DejaVuSans-20\"/>\n       <use x=\"971.744141\" xlink:href=\"#DejaVuSans-4f\"/>\n       <use x=\"1050.455078\" xlink:href=\"#DejaVuSans-27\"/>\n       <use x=\"1077.945312\" xlink:href=\"#DejaVuSans-48\"/>\n       <use x=\"1153.140625\" xlink:href=\"#DejaVuSans-69\"/>\n       <use x=\"1180.923828\" xlink:href=\"#DejaVuSans-67\"/>\n       <use x=\"1244.400391\" xlink:href=\"#DejaVuSans-67\"/>\n       <use x=\"1307.876953\" xlink:href=\"#DejaVuSans-69\"/>\n       <use x=\"1335.660156\" xlink:href=\"#DejaVuSans-6e\"/>\n       <use x=\"1399.039062\" xlink:href=\"#DejaVuSans-73\"/>\n      </g>\n     </g>\n    </g>\n    <g id=\"xtick_9\">\n     <g id=\"line2d_9\">\n      <g>\n       <use style=\"stroke:#000000;stroke-width:0.8;\" x=\"610.668369\" xlink:href=\"#ma5182b60b5\" y=\"561.398438\"/>\n      </g>\n     </g>\n     <g id=\"text_9\">\n      <!-- Los Lagos -->\n      <g transform=\"translate(613.427744 617.678125)rotate(-90)scale(0.1 -0.1)\">\n       <use xlink:href=\"#DejaVuSans-4c\"/>\n       <use x=\"53.962891\" xlink:href=\"#DejaVuSans-6f\"/>\n       <use x=\"115.144531\" xlink:href=\"#DejaVuSans-73\"/>\n       <use x=\"167.244141\" xlink:href=\"#DejaVuSans-20\"/>\n       <use x=\"199.03125\" xlink:href=\"#DejaVuSans-4c\"/>\n       <use x=\"254.744141\" xlink:href=\"#DejaVuSans-61\"/>\n       <use x=\"316.023438\" xlink:href=\"#DejaVuSans-67\"/>\n       <use x=\"379.5\" xlink:href=\"#DejaVuSans-6f\"/>\n       <use x=\"440.681641\" xlink:href=\"#DejaVuSans-73\"/>\n      </g>\n     </g>\n    </g>\n    <g id=\"xtick_10\">\n     <g id=\"line2d_10\">\n      <g>\n       <use style=\"stroke:#000000;stroke-width:0.8;\" x=\"674.880106\" xlink:href=\"#ma5182b60b5\" y=\"561.398438\"/>\n      </g>\n     </g>\n     <g id=\"text_10\">\n      <!-- Los Ríos -->\n      <g transform=\"translate(677.639481 609.35625)rotate(-90)scale(0.1 -0.1)\">\n       <defs>\n        <path d=\"M 2841 2188 \nQ 3044 2119 3236 1894 \nQ 3428 1669 3622 1275 \nL 4263 0 \nL 3584 0 \nL 2988 1197 \nQ 2756 1666 2539 1819 \nQ 2322 1972 1947 1972 \nL 1259 1972 \nL 1259 0 \nL 628 0 \nL 628 4666 \nL 2053 4666 \nQ 2853 4666 3247 4331 \nQ 3641 3997 3641 3322 \nQ 3641 2881 3436 2590 \nQ 3231 2300 2841 2188 \nz\nM 1259 4147 \nL 1259 2491 \nL 2053 2491 \nQ 2509 2491 2742 2702 \nQ 2975 2913 2975 3322 \nQ 2975 3731 2742 3939 \nQ 2509 4147 2053 4147 \nL 1259 4147 \nz\n\" id=\"DejaVuSans-52\" transform=\"scale(0.015625)\"/>\n       </defs>\n       <use xlink:href=\"#DejaVuSans-4c\"/>\n       <use x=\"53.962891\" xlink:href=\"#DejaVuSans-6f\"/>\n       <use x=\"115.144531\" xlink:href=\"#DejaVuSans-73\"/>\n       <use x=\"167.244141\" xlink:href=\"#DejaVuSans-20\"/>\n       <use x=\"199.03125\" xlink:href=\"#DejaVuSans-52\"/>\n       <use x=\"268.513672\" xlink:href=\"#DejaVuSans-ed\"/>\n       <use x=\"296.296875\" xlink:href=\"#DejaVuSans-6f\"/>\n       <use x=\"357.478516\" xlink:href=\"#DejaVuSans-73\"/>\n      </g>\n     </g>\n    </g>\n    <g id=\"xtick_11\">\n     <g id=\"line2d_11\">\n      <g>\n       <use style=\"stroke:#000000;stroke-width:0.8;\" x=\"739.091844\" xlink:href=\"#ma5182b60b5\" y=\"561.398438\"/>\n      </g>\n     </g>\n     <g id=\"text_11\">\n      <!-- Magallanes y Antártica Chilena -->\n      <g transform=\"translate(742.051219 723.626563)rotate(-90)scale(0.1 -0.1)\">\n       <defs>\n        <path d=\"M 628 4666 \nL 1569 4666 \nL 2759 1491 \nL 3956 4666 \nL 4897 4666 \nL 4897 0 \nL 4281 0 \nL 4281 4097 \nL 3078 897 \nL 2444 897 \nL 1241 4097 \nL 1241 0 \nL 628 0 \nL 628 4666 \nz\n\" id=\"DejaVuSans-4d\" transform=\"scale(0.015625)\"/>\n        <path d=\"M 3513 2113 \nL 3513 0 \nL 2938 0 \nL 2938 2094 \nQ 2938 2591 2744 2837 \nQ 2550 3084 2163 3084 \nQ 1697 3084 1428 2787 \nQ 1159 2491 1159 1978 \nL 1159 0 \nL 581 0 \nL 581 4863 \nL 1159 4863 \nL 1159 2956 \nQ 1366 3272 1645 3428 \nQ 1925 3584 2291 3584 \nQ 2894 3584 3203 3211 \nQ 3513 2838 3513 2113 \nz\n\" id=\"DejaVuSans-68\" transform=\"scale(0.015625)\"/>\n       </defs>\n       <use xlink:href=\"#DejaVuSans-4d\"/>\n       <use x=\"86.279297\" xlink:href=\"#DejaVuSans-61\"/>\n       <use x=\"147.558594\" xlink:href=\"#DejaVuSans-67\"/>\n       <use x=\"211.035156\" xlink:href=\"#DejaVuSans-61\"/>\n       <use x=\"272.314453\" xlink:href=\"#DejaVuSans-6c\"/>\n       <use x=\"300.097656\" xlink:href=\"#DejaVuSans-6c\"/>\n       <use x=\"327.880859\" xlink:href=\"#DejaVuSans-61\"/>\n       <use x=\"389.160156\" xlink:href=\"#DejaVuSans-6e\"/>\n       <use x=\"452.539062\" xlink:href=\"#DejaVuSans-65\"/>\n       <use x=\"514.0625\" xlink:href=\"#DejaVuSans-73\"/>\n       <use x=\"566.162109\" xlink:href=\"#DejaVuSans-20\"/>\n       <use x=\"597.949219\" xlink:href=\"#DejaVuSans-79\"/>\n       <use x=\"657.128906\" xlink:href=\"#DejaVuSans-20\"/>\n       <use x=\"688.916016\" xlink:href=\"#DejaVuSans-41\"/>\n       <use x=\"757.324219\" xlink:href=\"#DejaVuSans-6e\"/>\n       <use x=\"820.703125\" xlink:href=\"#DejaVuSans-74\"/>\n       <use x=\"859.912109\" xlink:href=\"#DejaVuSans-e1\"/>\n       <use x=\"921.191406\" xlink:href=\"#DejaVuSans-72\"/>\n       <use x=\"962.304688\" xlink:href=\"#DejaVuSans-74\"/>\n       <use x=\"1001.513672\" xlink:href=\"#DejaVuSans-69\"/>\n       <use x=\"1029.296875\" xlink:href=\"#DejaVuSans-63\"/>\n       <use x=\"1084.277344\" xlink:href=\"#DejaVuSans-61\"/>\n       <use x=\"1145.556641\" xlink:href=\"#DejaVuSans-20\"/>\n       <use x=\"1177.34375\" xlink:href=\"#DejaVuSans-43\"/>\n       <use x=\"1247.167969\" xlink:href=\"#DejaVuSans-68\"/>\n       <use x=\"1310.546875\" xlink:href=\"#DejaVuSans-69\"/>\n       <use x=\"1338.330078\" xlink:href=\"#DejaVuSans-6c\"/>\n       <use x=\"1366.113281\" xlink:href=\"#DejaVuSans-65\"/>\n       <use x=\"1427.636719\" xlink:href=\"#DejaVuSans-6e\"/>\n       <use x=\"1491.015625\" xlink:href=\"#DejaVuSans-61\"/>\n      </g>\n     </g>\n    </g>\n    <g id=\"xtick_12\">\n     <g id=\"line2d_12\">\n      <g>\n       <use style=\"stroke:#000000;stroke-width:0.8;\" x=\"803.303582\" xlink:href=\"#ma5182b60b5\" y=\"561.398438\"/>\n      </g>\n     </g>\n     <g id=\"text_12\">\n      <!-- Maule -->\n      <g transform=\"translate(806.062957 598.423438)rotate(-90)scale(0.1 -0.1)\">\n       <use xlink:href=\"#DejaVuSans-4d\"/>\n       <use x=\"86.279297\" xlink:href=\"#DejaVuSans-61\"/>\n       <use x=\"147.558594\" xlink:href=\"#DejaVuSans-75\"/>\n       <use x=\"210.9375\" xlink:href=\"#DejaVuSans-6c\"/>\n       <use x=\"238.720703\" xlink:href=\"#DejaVuSans-65\"/>\n      </g>\n     </g>\n    </g>\n    <g id=\"xtick_13\">\n     <g id=\"line2d_13\">\n      <g>\n       <use style=\"stroke:#000000;stroke-width:0.8;\" x=\"867.515319\" xlink:href=\"#ma5182b60b5\" y=\"561.398438\"/>\n      </g>\n     </g>\n     <g id=\"text_13\">\n      <!-- Metropolitana de Santiago -->\n      <g transform=\"translate(870.274694 700.607813)rotate(-90)scale(0.1 -0.1)\">\n       <defs>\n        <path d=\"M 3425 4513 \nL 3425 3897 \nQ 3066 4069 2747 4153 \nQ 2428 4238 2131 4238 \nQ 1616 4238 1336 4038 \nQ 1056 3838 1056 3469 \nQ 1056 3159 1242 3001 \nQ 1428 2844 1947 2747 \nL 2328 2669 \nQ 3034 2534 3370 2195 \nQ 3706 1856 3706 1288 \nQ 3706 609 3251 259 \nQ 2797 -91 1919 -91 \nQ 1588 -91 1214 -16 \nQ 841 59 441 206 \nL 441 856 \nQ 825 641 1194 531 \nQ 1563 422 1919 422 \nQ 2459 422 2753 634 \nQ 3047 847 3047 1241 \nQ 3047 1584 2836 1778 \nQ 2625 1972 2144 2069 \nL 1759 2144 \nQ 1053 2284 737 2584 \nQ 422 2884 422 3419 \nQ 422 4038 858 4394 \nQ 1294 4750 2059 4750 \nQ 2388 4750 2728 4690 \nQ 3069 4631 3425 4513 \nz\n\" id=\"DejaVuSans-53\" transform=\"scale(0.015625)\"/>\n       </defs>\n       <use xlink:href=\"#DejaVuSans-4d\"/>\n       <use x=\"86.279297\" xlink:href=\"#DejaVuSans-65\"/>\n       <use x=\"147.802734\" xlink:href=\"#DejaVuSans-74\"/>\n       <use x=\"187.011719\" xlink:href=\"#DejaVuSans-72\"/>\n       <use x=\"225.875\" xlink:href=\"#DejaVuSans-6f\"/>\n       <use x=\"287.056641\" xlink:href=\"#DejaVuSans-70\"/>\n       <use x=\"350.533203\" xlink:href=\"#DejaVuSans-6f\"/>\n       <use x=\"411.714844\" xlink:href=\"#DejaVuSans-6c\"/>\n       <use x=\"439.498047\" xlink:href=\"#DejaVuSans-69\"/>\n       <use x=\"467.28125\" xlink:href=\"#DejaVuSans-74\"/>\n       <use x=\"506.490234\" xlink:href=\"#DejaVuSans-61\"/>\n       <use x=\"567.769531\" xlink:href=\"#DejaVuSans-6e\"/>\n       <use x=\"631.148438\" xlink:href=\"#DejaVuSans-61\"/>\n       <use x=\"692.427734\" xlink:href=\"#DejaVuSans-20\"/>\n       <use x=\"724.214844\" xlink:href=\"#DejaVuSans-64\"/>\n       <use x=\"787.691406\" xlink:href=\"#DejaVuSans-65\"/>\n       <use x=\"849.214844\" xlink:href=\"#DejaVuSans-20\"/>\n       <use x=\"881.001953\" xlink:href=\"#DejaVuSans-53\"/>\n       <use x=\"944.478516\" xlink:href=\"#DejaVuSans-61\"/>\n       <use x=\"1005.757812\" xlink:href=\"#DejaVuSans-6e\"/>\n       <use x=\"1069.136719\" xlink:href=\"#DejaVuSans-74\"/>\n       <use x=\"1108.345703\" xlink:href=\"#DejaVuSans-69\"/>\n       <use x=\"1136.128906\" xlink:href=\"#DejaVuSans-61\"/>\n       <use x=\"1197.408203\" xlink:href=\"#DejaVuSans-67\"/>\n       <use x=\"1260.884766\" xlink:href=\"#DejaVuSans-6f\"/>\n      </g>\n     </g>\n    </g>\n    <g id=\"xtick_14\">\n     <g id=\"line2d_14\">\n      <g>\n       <use style=\"stroke:#000000;stroke-width:0.8;\" x=\"931.727057\" xlink:href=\"#ma5182b60b5\" y=\"561.398438\"/>\n      </g>\n     </g>\n     <g id=\"text_14\">\n      <!-- Tarapacá -->\n      <g transform=\"translate(934.686432 613.326563)rotate(-90)scale(0.1 -0.1)\">\n       <defs>\n        <path d=\"M -19 4666 \nL 3928 4666 \nL 3928 4134 \nL 2272 4134 \nL 2272 0 \nL 1638 0 \nL 1638 4134 \nL -19 4134 \nL -19 4666 \nz\n\" id=\"DejaVuSans-54\" transform=\"scale(0.015625)\"/>\n       </defs>\n       <use xlink:href=\"#DejaVuSans-54\"/>\n       <use x=\"44.583984\" xlink:href=\"#DejaVuSans-61\"/>\n       <use x=\"105.863281\" xlink:href=\"#DejaVuSans-72\"/>\n       <use x=\"146.976562\" xlink:href=\"#DejaVuSans-61\"/>\n       <use x=\"208.255859\" xlink:href=\"#DejaVuSans-70\"/>\n       <use x=\"271.732422\" xlink:href=\"#DejaVuSans-61\"/>\n       <use x=\"333.011719\" xlink:href=\"#DejaVuSans-63\"/>\n       <use x=\"387.992188\" xlink:href=\"#DejaVuSans-e1\"/>\n      </g>\n     </g>\n    </g>\n    <g id=\"xtick_15\">\n     <g id=\"line2d_15\">\n      <g>\n       <use style=\"stroke:#000000;stroke-width:0.8;\" x=\"995.938795\" xlink:href=\"#ma5182b60b5\" y=\"561.398438\"/>\n      </g>\n     </g>\n     <g id=\"text_15\">\n      <!-- Valparaíso -->\n      <g transform=\"translate(998.89817 620.192188)rotate(-90)scale(0.1 -0.1)\">\n       <defs>\n        <path d=\"M 1831 0 \nL 50 4666 \nL 709 4666 \nL 2188 738 \nL 3669 4666 \nL 4325 4666 \nL 2547 0 \nL 1831 0 \nz\n\" id=\"DejaVuSans-56\" transform=\"scale(0.015625)\"/>\n       </defs>\n       <use xlink:href=\"#DejaVuSans-56\"/>\n       <use x=\"60.658203\" xlink:href=\"#DejaVuSans-61\"/>\n       <use x=\"121.9375\" xlink:href=\"#DejaVuSans-6c\"/>\n       <use x=\"149.720703\" xlink:href=\"#DejaVuSans-70\"/>\n       <use x=\"213.197266\" xlink:href=\"#DejaVuSans-61\"/>\n       <use x=\"274.476562\" xlink:href=\"#DejaVuSans-72\"/>\n       <use x=\"315.589844\" xlink:href=\"#DejaVuSans-61\"/>\n       <use x=\"376.869141\" xlink:href=\"#DejaVuSans-ed\"/>\n       <use x=\"404.652344\" xlink:href=\"#DejaVuSans-73\"/>\n       <use x=\"456.751953\" xlink:href=\"#DejaVuSans-6f\"/>\n      </g>\n     </g>\n    </g>\n    <g id=\"xtick_16\">\n     <g id=\"line2d_16\">\n      <g>\n       <use style=\"stroke:#000000;stroke-width:0.8;\" x=\"1060.150532\" xlink:href=\"#ma5182b60b5\" y=\"561.398438\"/>\n      </g>\n     </g>\n     <g id=\"text_16\">\n      <!-- Ñuble -->\n      <g transform=\"translate(1062.909907 597.496875)rotate(-90)scale(0.1 -0.1)\">\n       <defs>\n        <path d=\"M 628 4666 \nL 1478 4666 \nL 3547 763 \nL 3547 4666 \nL 4159 4666 \nL 4159 0 \nL 3309 0 \nL 1241 3903 \nL 1241 0 \nL 628 0 \nL 628 4666 \nz\nM 2380 5330 \nL 2201 5433 \nQ 2123 5477 2074 5494 \nQ 2026 5511 1989 5511 \nQ 1876 5511 1813 5433 \nQ 1751 5355 1751 5215 \nL 1751 5196 \nL 1361 5196 \nQ 1361 5511 1522 5695 \nQ 1683 5880 1951 5880 \nQ 2064 5880 2159 5855 \nQ 2255 5830 2405 5746 \nL 2583 5652 \nQ 2655 5611 2708 5592 \nQ 2761 5574 2808 5574 \nQ 2908 5574 2970 5653 \nQ 3033 5733 3033 5861 \nL 3033 5880 \nL 3423 5880 \nQ 3417 5568 3256 5382 \nQ 3095 5196 2833 5196 \nQ 2726 5196 2634 5221 \nQ 2542 5246 2380 5330 \nz\n\" id=\"DejaVuSans-d1\" transform=\"scale(0.015625)\"/>\n       </defs>\n       <use xlink:href=\"#DejaVuSans-d1\"/>\n       <use x=\"74.804688\" xlink:href=\"#DejaVuSans-75\"/>\n       <use x=\"138.183594\" xlink:href=\"#DejaVuSans-62\"/>\n       <use x=\"201.660156\" xlink:href=\"#DejaVuSans-6c\"/>\n       <use x=\"229.443359\" xlink:href=\"#DejaVuSans-65\"/>\n      </g>\n     </g>\n    </g>\n   </g>\n   <g id=\"matplotlib.axis_2\">\n    <g id=\"ytick_1\">\n     <g id=\"line2d_17\">\n      <defs>\n       <path d=\"M 0 0 \nL -3.5 0 \n\" id=\"m3fb8061c07\" style=\"stroke:#000000;stroke-width:0.8;\"/>\n      </defs>\n      <g>\n       <use style=\"stroke:#000000;stroke-width:0.8;\" x=\"20.5625\" xlink:href=\"#m3fb8061c07\" y=\"561.398438\"/>\n      </g>\n     </g>\n     <g id=\"text_17\">\n      <!-- 0 -->\n      <g transform=\"translate(7.2 565.197656)scale(0.1 -0.1)\">\n       <defs>\n        <path d=\"M 2034 4250 \nQ 1547 4250 1301 3770 \nQ 1056 3291 1056 2328 \nQ 1056 1369 1301 889 \nQ 1547 409 2034 409 \nQ 2525 409 2770 889 \nQ 3016 1369 3016 2328 \nQ 3016 3291 2770 3770 \nQ 2525 4250 2034 4250 \nz\nM 2034 4750 \nQ 2819 4750 3233 4129 \nQ 3647 3509 3647 2328 \nQ 3647 1150 3233 529 \nQ 2819 -91 2034 -91 \nQ 1250 -91 836 529 \nQ 422 1150 422 2328 \nQ 422 3509 836 4129 \nQ 1250 4750 2034 4750 \nz\n\" id=\"DejaVuSans-30\" transform=\"scale(0.015625)\"/>\n       </defs>\n       <use xlink:href=\"#DejaVuSans-30\"/>\n      </g>\n     </g>\n    </g>\n    <g id=\"ytick_2\">\n     <g id=\"line2d_18\">\n      <g>\n       <use style=\"stroke:#000000;stroke-width:0.8;\" x=\"20.5625\" xlink:href=\"#m3fb8061c07\" y=\"488.38406\"/>\n      </g>\n     </g>\n     <g id=\"text_18\">\n      <!-- 1 -->\n      <g transform=\"translate(7.2 492.183279)scale(0.1 -0.1)\">\n       <defs>\n        <path d=\"M 794 531 \nL 1825 531 \nL 1825 4091 \nL 703 3866 \nL 703 4441 \nL 1819 4666 \nL 2450 4666 \nL 2450 531 \nL 3481 531 \nL 3481 0 \nL 794 0 \nL 794 531 \nz\n\" id=\"DejaVuSans-31\" transform=\"scale(0.015625)\"/>\n       </defs>\n       <use xlink:href=\"#DejaVuSans-31\"/>\n      </g>\n     </g>\n    </g>\n    <g id=\"ytick_3\">\n     <g id=\"line2d_19\">\n      <g>\n       <use style=\"stroke:#000000;stroke-width:0.8;\" x=\"20.5625\" xlink:href=\"#m3fb8061c07\" y=\"415.369682\"/>\n      </g>\n     </g>\n     <g id=\"text_19\">\n      <!-- 2 -->\n      <g transform=\"translate(7.2 419.168901)scale(0.1 -0.1)\">\n       <defs>\n        <path d=\"M 1228 531 \nL 3431 531 \nL 3431 0 \nL 469 0 \nL 469 531 \nQ 828 903 1448 1529 \nQ 2069 2156 2228 2338 \nQ 2531 2678 2651 2914 \nQ 2772 3150 2772 3378 \nQ 2772 3750 2511 3984 \nQ 2250 4219 1831 4219 \nQ 1534 4219 1204 4116 \nQ 875 4013 500 3803 \nL 500 4441 \nQ 881 4594 1212 4672 \nQ 1544 4750 1819 4750 \nQ 2544 4750 2975 4387 \nQ 3406 4025 3406 3419 \nQ 3406 3131 3298 2873 \nQ 3191 2616 2906 2266 \nQ 2828 2175 2409 1742 \nQ 1991 1309 1228 531 \nz\n\" id=\"DejaVuSans-32\" transform=\"scale(0.015625)\"/>\n       </defs>\n       <use xlink:href=\"#DejaVuSans-32\"/>\n      </g>\n     </g>\n    </g>\n    <g id=\"ytick_4\">\n     <g id=\"line2d_20\">\n      <g>\n       <use style=\"stroke:#000000;stroke-width:0.8;\" x=\"20.5625\" xlink:href=\"#m3fb8061c07\" y=\"342.355305\"/>\n      </g>\n     </g>\n     <g id=\"text_20\">\n      <!-- 3 -->\n      <g transform=\"translate(7.2 346.154523)scale(0.1 -0.1)\">\n       <defs>\n        <path d=\"M 2597 2516 \nQ 3050 2419 3304 2112 \nQ 3559 1806 3559 1356 \nQ 3559 666 3084 287 \nQ 2609 -91 1734 -91 \nQ 1441 -91 1130 -33 \nQ 819 25 488 141 \nL 488 750 \nQ 750 597 1062 519 \nQ 1375 441 1716 441 \nQ 2309 441 2620 675 \nQ 2931 909 2931 1356 \nQ 2931 1769 2642 2001 \nQ 2353 2234 1838 2234 \nL 1294 2234 \nL 1294 2753 \nL 1863 2753 \nQ 2328 2753 2575 2939 \nQ 2822 3125 2822 3475 \nQ 2822 3834 2567 4026 \nQ 2313 4219 1838 4219 \nQ 1578 4219 1281 4162 \nQ 984 4106 628 3988 \nL 628 4550 \nQ 988 4650 1302 4700 \nQ 1616 4750 1894 4750 \nQ 2613 4750 3031 4423 \nQ 3450 4097 3450 3541 \nQ 3450 3153 3228 2886 \nQ 3006 2619 2597 2516 \nz\n\" id=\"DejaVuSans-33\" transform=\"scale(0.015625)\"/>\n       </defs>\n       <use xlink:href=\"#DejaVuSans-33\"/>\n      </g>\n     </g>\n    </g>\n    <g id=\"ytick_5\">\n     <g id=\"line2d_21\">\n      <g>\n       <use style=\"stroke:#000000;stroke-width:0.8;\" x=\"20.5625\" xlink:href=\"#m3fb8061c07\" y=\"269.340927\"/>\n      </g>\n     </g>\n     <g id=\"text_21\">\n      <!-- 4 -->\n      <g transform=\"translate(7.2 273.140146)scale(0.1 -0.1)\">\n       <defs>\n        <path d=\"M 2419 4116 \nL 825 1625 \nL 2419 1625 \nL 2419 4116 \nz\nM 2253 4666 \nL 3047 4666 \nL 3047 1625 \nL 3713 1625 \nL 3713 1100 \nL 3047 1100 \nL 3047 0 \nL 2419 0 \nL 2419 1100 \nL 313 1100 \nL 313 1709 \nL 2253 4666 \nz\n\" id=\"DejaVuSans-34\" transform=\"scale(0.015625)\"/>\n       </defs>\n       <use xlink:href=\"#DejaVuSans-34\"/>\n      </g>\n     </g>\n    </g>\n    <g id=\"ytick_6\">\n     <g id=\"line2d_22\">\n      <g>\n       <use style=\"stroke:#000000;stroke-width:0.8;\" x=\"20.5625\" xlink:href=\"#m3fb8061c07\" y=\"196.326549\"/>\n      </g>\n     </g>\n     <g id=\"text_22\">\n      <!-- 5 -->\n      <g transform=\"translate(7.2 200.125768)scale(0.1 -0.1)\">\n       <defs>\n        <path d=\"M 691 4666 \nL 3169 4666 \nL 3169 4134 \nL 1269 4134 \nL 1269 2991 \nQ 1406 3038 1543 3061 \nQ 1681 3084 1819 3084 \nQ 2600 3084 3056 2656 \nQ 3513 2228 3513 1497 \nQ 3513 744 3044 326 \nQ 2575 -91 1722 -91 \nQ 1428 -91 1123 -41 \nQ 819 9 494 109 \nL 494 744 \nQ 775 591 1075 516 \nQ 1375 441 1709 441 \nQ 2250 441 2565 725 \nQ 2881 1009 2881 1497 \nQ 2881 1984 2565 2268 \nQ 2250 2553 1709 2553 \nQ 1456 2553 1204 2497 \nQ 953 2441 691 2322 \nL 691 4666 \nz\n\" id=\"DejaVuSans-35\" transform=\"scale(0.015625)\"/>\n       </defs>\n       <use xlink:href=\"#DejaVuSans-35\"/>\n      </g>\n     </g>\n    </g>\n    <g id=\"ytick_7\">\n     <g id=\"line2d_23\">\n      <g>\n       <use style=\"stroke:#000000;stroke-width:0.8;\" x=\"20.5625\" xlink:href=\"#m3fb8061c07\" y=\"123.312172\"/>\n      </g>\n     </g>\n     <g id=\"text_23\">\n      <!-- 6 -->\n      <g transform=\"translate(7.2 127.11139)scale(0.1 -0.1)\">\n       <defs>\n        <path d=\"M 2113 2584 \nQ 1688 2584 1439 2293 \nQ 1191 2003 1191 1497 \nQ 1191 994 1439 701 \nQ 1688 409 2113 409 \nQ 2538 409 2786 701 \nQ 3034 994 3034 1497 \nQ 3034 2003 2786 2293 \nQ 2538 2584 2113 2584 \nz\nM 3366 4563 \nL 3366 3988 \nQ 3128 4100 2886 4159 \nQ 2644 4219 2406 4219 \nQ 1781 4219 1451 3797 \nQ 1122 3375 1075 2522 \nQ 1259 2794 1537 2939 \nQ 1816 3084 2150 3084 \nQ 2853 3084 3261 2657 \nQ 3669 2231 3669 1497 \nQ 3669 778 3244 343 \nQ 2819 -91 2113 -91 \nQ 1303 -91 875 529 \nQ 447 1150 447 2328 \nQ 447 3434 972 4092 \nQ 1497 4750 2381 4750 \nQ 2619 4750 2861 4703 \nQ 3103 4656 3366 4563 \nz\n\" id=\"DejaVuSans-36\" transform=\"scale(0.015625)\"/>\n       </defs>\n       <use xlink:href=\"#DejaVuSans-36\"/>\n      </g>\n     </g>\n    </g>\n    <g id=\"ytick_8\">\n     <g id=\"line2d_24\">\n      <g>\n       <use style=\"stroke:#000000;stroke-width:0.8;\" x=\"20.5625\" xlink:href=\"#m3fb8061c07\" y=\"50.297794\"/>\n      </g>\n     </g>\n     <g id=\"text_24\">\n      <!-- 7 -->\n      <g transform=\"translate(7.2 54.097013)scale(0.1 -0.1)\">\n       <defs>\n        <path d=\"M 525 4666 \nL 3525 4666 \nL 3525 4397 \nL 1831 0 \nL 1172 0 \nL 2766 4134 \nL 525 4134 \nL 525 4666 \nz\n\" id=\"DejaVuSans-37\" transform=\"scale(0.015625)\"/>\n       </defs>\n       <use xlink:href=\"#DejaVuSans-37\"/>\n      </g>\n     </g>\n    </g>\n    <g id=\"text_25\">\n     <!-- 1e6 -->\n     <g transform=\"translate(20.5625 14.798437)scale(0.1 -0.1)\">\n      <use xlink:href=\"#DejaVuSans-31\"/>\n      <use x=\"63.623047\" xlink:href=\"#DejaVuSans-65\"/>\n      <use x=\"125.146484\" xlink:href=\"#DejaVuSans-36\"/>\n     </g>\n    </g>\n   </g>\n   <g id=\"patch_19\">\n    <path d=\"M 20.5625 561.398438 \nL 20.5625 17.798438 \n\" style=\"fill:none;stroke:#000000;stroke-linecap:square;stroke-linejoin:miter;stroke-width:0.8;\"/>\n   </g>\n   <g id=\"patch_20\">\n    <path d=\"M 1136.5625 561.398438 \nL 1136.5625 17.798438 \n\" style=\"fill:none;stroke:#000000;stroke-linecap:square;stroke-linejoin:miter;stroke-width:0.8;\"/>\n   </g>\n   <g id=\"patch_21\">\n    <path d=\"M 20.5625 561.398438 \nL 1136.5625 561.398438 \n\" style=\"fill:none;stroke:#000000;stroke-linecap:square;stroke-linejoin:miter;stroke-width:0.8;\"/>\n   </g>\n   <g id=\"patch_22\">\n    <path d=\"M 20.5625 17.798437 \nL 1136.5625 17.798437 \n\" style=\"fill:none;stroke:#000000;stroke-linecap:square;stroke-linejoin:miter;stroke-width:0.8;\"/>\n   </g>\n  </g>\n </g>\n <defs>\n  <clipPath id=\"pad99f267fe\">\n   <rect height=\"543.6\" width=\"1116\" x=\"20.5625\" y=\"17.798437\"/>\n  </clipPath>\n </defs>\n</svg>\n",
      "image/png": "[encoded data removed]"
     },
     "metadata": {
      "needs_background": "light"
     }
    }
   ],
   "source": [
    "import matplotlib.pyplot as plt\n",
    "\n",
    "# Ajustamos el tamaño del gráfico\n",
    "plt.rcParams['figure.figsize'] = [20, 10]\n",
    "\n",
    "pop_by_comune = com_frame['pobl'].groupby(com_frame['reg']).sum()\n",
    "plt.bar(pop_by_comune.keys(), pop_by_comune)\n",
    "\n",
    "# Ajustamos la rotación de los labels\n",
    "plt.xticks(rotation=90)\n",
    "\n",
    "plt"
   ]
  },
  {
   "cell_type": "markdown",
   "metadata": {},
   "source": [
    "### Índices jerárquicos\n",
    "\n",
    "Podemos instanciar objetos de la clase `DataFrame` en que los índices son jerárquicos. Veamos un ejemplo."
   ]
  },
  {
   "cell_type": "code",
   "execution_count": null,
   "metadata": {},
   "outputs": [],
   "source": [
    "data_multindex = pd.DataFrame(np.arange(12).reshape(4, 3), \n",
    "                    index=[['a', 'a', 'b', 'b'], [1, 2, 1, 2]],\n",
    "                    columns=['c1', 'c2', 'c3']) \n",
    "# La función reshape en este \n",
    "# caso distribuye los doce elementos \n",
    "# en una tabla de 4 filas y tres columnas\n",
    "\n",
    "data_multindex"
   ]
  },
  {
   "cell_type": "code",
   "execution_count": null,
   "metadata": {},
   "outputs": [],
   "source": [
    "data_multindex.iloc[0] # Esto nos arroja la primera fila."
   ]
  },
  {
   "cell_type": "markdown",
   "metadata": {},
   "source": [
    "Si queremos localizar por índice, usamos la función `loc`:"
   ]
  },
  {
   "cell_type": "code",
   "execution_count": null,
   "metadata": {},
   "outputs": [],
   "source": [
    "data_multindex.loc['a']"
   ]
  },
  {
   "cell_type": "code",
   "execution_count": null,
   "metadata": {},
   "outputs": [],
   "source": [
    "data_multindex.loc['a'].loc[2] # La función loc accede según el label del índice, no la posición"
   ]
  },
  {
   "cell_type": "markdown",
   "metadata": {},
   "source": [
    "### Joins\n",
    "\n",
    "Podemos hacer _joins_ sobre los Data Frames. Partamos con un ejemplo sencillo de dos objetos de tipo `DataFrame` que comparten el nombre de un atributo en el que se desea hacer _join_:"
   ]
  },
  {
   "cell_type": "code",
   "execution_count": null,
   "metadata": {},
   "outputs": [],
   "source": [
    "import numpy as np\n",
    "\n",
    "df1 = pd.DataFrame({'key': ['b', 'b', 'a', 'c', 'a', 'a', 'b'],\n",
    "                    'data1': np.arange(7)})\n",
    "df2 = pd.DataFrame({'key': ['a', 'b', 'd', 'a'],\n",
    "                    'data2': np.arange(8, 12)})\n",
    "\n",
    "pd.merge(df1, df2)"
   ]
  },
  {
   "cell_type": "code",
   "execution_count": null,
   "metadata": {},
   "outputs": [],
   "source": [
    "df1"
   ]
  },
  {
   "cell_type": "markdown",
   "metadata": {},
   "source": [
    "En la operación anterior, omitimos indicar explícitamente el atributo sobre el que estamos haciendo join. Para indicarlo hacemos lo siguiente:"
   ]
  },
  {
   "cell_type": "code",
   "execution_count": null,
   "metadata": {},
   "outputs": [],
   "source": [
    "df1 = pd.DataFrame({'key': ['b', 'b', 'a', 'c', 'a', 'a', 'b'],\n",
    "                    'data1': np.arange(7)})\n",
    "df2 = pd.DataFrame({'key': ['a', 'b', 'd', 'a'],\n",
    "                    'data2': np.arange(8, 12)})\n",
    "\n",
    "pd.merge(df1, df2, on='key')"
   ]
  },
  {
   "cell_type": "markdown",
   "metadata": {},
   "source": [
    "En el caso de que los atributos se llamen de distinta forma:"
   ]
  },
  {
   "cell_type": "code",
   "execution_count": null,
   "metadata": {},
   "outputs": [],
   "source": [
    "df1 = pd.DataFrame({'key1': ['b', 'b', 'a', 'c', 'a', 'a', 'b'],\n",
    "                    'data1': np.arange(7)})\n",
    "df2 = pd.DataFrame({'key2': ['a', 'b', 'd', 'a'],\n",
    "                    'data2': np.arange(8, 12)})\n",
    "\n",
    "pd.merge(df1, df2, left_on='key1', right_on='key2')"
   ]
  },
  {
   "cell_type": "markdown",
   "metadata": {},
   "source": [
    "En el caso de necesitar un _Outer Join_, podemos indicarlo con el argumento `how`. Puede ser `'left'`, `'right'` o `'outer'`. Veamos un ejemplo de _Left Outer Join_:"
   ]
  },
  {
   "cell_type": "code",
   "execution_count": null,
   "metadata": {},
   "outputs": [],
   "source": [
    "df1 = pd.DataFrame({'key1': ['b', 'b', 'a', 'c', 'a', 'a', 'b'],\n",
    "                    'data1': np.arange(7)})\n",
    "df2 = pd.DataFrame({'key2': ['a', 'b', 'd', 'a'],\n",
    "                    'data2': np.arange(8, 12)})\n",
    "\n",
    "pd.merge(df1, df2, left_on='key1', right_on='key2', how='left')"
   ]
  },
  {
   "cell_type": "markdown",
   "metadata": {},
   "source": [
    "En el caso de querer un _join_ por más de un argumento, puedo indicar una lista de atributos. También puedes renombrar atributos en el caso de que su nombre sea igual en ambos Data Frame y no quieras generar conflictos. Esto lo puedes hacer mediante el argumento `suffixes`. Para ver más puedes consultar la documentación."
   ]
  },
  {
   "cell_type": "markdown",
   "metadata": {},
   "source": [
    "Lo último que veremos es cómo hacer un _join_ utilizando una de los índices."
   ]
  },
  {
   "cell_type": "code",
   "execution_count": null,
   "metadata": {},
   "outputs": [],
   "source": [
    "import pandas as pd\n",
    "import numpy as np\n",
    "\n",
    "df1 = pd.DataFrame({'key': ['a', 'b', 'a', 'a', 'b', 'c'],\n",
    "                    'value': np.arange(6)})\n",
    "df2 = pd.DataFrame({'dvalue': [10, 20]}, index=['a', 'b'])"
   ]
  },
  {
   "cell_type": "code",
   "execution_count": null,
   "metadata": {},
   "outputs": [],
   "source": [
    "df1"
   ]
  },
  {
   "cell_type": "code",
   "execution_count": null,
   "metadata": {},
   "outputs": [],
   "source": [
    "df2"
   ]
  },
  {
   "cell_type": "code",
   "execution_count": null,
   "metadata": {},
   "outputs": [],
   "source": [
    "pd.merge(df1, df2, left_on='key', right_index=True)"
   ]
  },
  {
   "cell_type": "markdown",
   "metadata": {},
   "source": [
    "También puedes utilizar `merge` con índices jerárquicos. Puedes buscar más información en la documentación de `pandas`."
   ]
  }
 ],
 "metadata": {
  "kernelspec": {
   "display_name": "Python 3",
   "language": "python",
   "name": "python3"
  },
  "language_info": {
   "codemirror_mode": {
    "name": "ipython",
    "version": 3
   },
   "file_extension": ".py",
   "mimetype": "text/x-python",
   "name": "python",
   "nbconvert_exporter": "python",
   "pygments_lexer": "ipython3",
   "version": "3.9.6-final"
  }
 },
 "nbformat": 4,
 "nbformat_minor": 2
}