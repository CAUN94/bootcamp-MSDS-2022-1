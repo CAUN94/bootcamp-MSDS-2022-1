{
 "metadata": {
  "language_info": {
   "codemirror_mode": {
    "name": "ipython",
    "version": 3
   },
   "file_extension": ".py",
   "mimetype": "text/x-python",
   "name": "python",
   "nbconvert_exporter": "python",
   "pygments_lexer": "ipython3",
   "version": "3.9.6-final"
  },
  "orig_nbformat": 2,
  "kernelspec": {
   "name": "python39264bit4ee24be30d714ff6b4e1a17c05cae8f0",
   "display_name": "Python 3.9.2 64-bit"
  }
 },
 "nbformat": 4,
 "nbformat_minor": 2,
 "cells": [
  {
   "cell_type": "markdown",
   "metadata": {},
   "source": [
    "## Bubble Sort\n",
    "\n",
    "Gif que explica algoritmo\n",
    "https://upload.wikimedia.org/wikipedia/commons/c/c8/Bubble-sort-example-300px.gif\n",
    "\n",
    "El ordenamieno de burbuja es un algoritmo que funciona así:\n",
    "- Partimos con una lista de datos\n",
    "1,7,2,3,4,8,9\n",
    "- Ahora tomaremos el primer y segundo valor y los compararemos, despues el segundo con el tercero y así sucesivamente, en caso de que una pareja no este de menor a mayor los caambiamos de posición.\n",
    "\n",
    "1,7, como esta ya esta ordenado de menor a mayor seguimos con la siguiente pareja.\n",
    "\n",
    "7,2, como esta no esta ordenada, las daremos vuelta dejando la lista de la siguiente forma.\n",
    "\n",
    "1,2,7,4,3,8,9\n",
    "\n",
    "Ahora nos toca revisar el tercer y cuarto valor.\n",
    "7,4 igual que antes no están en el órden correcto.\n",
    "\n",
    "1,2,4,7,3,8,9\n",
    "\n",
    "Ahora nos toca revisar el cuarto y quinto valor.\n",
    "7,3 igual que antes no están en el órden correcto.\n",
    "\n",
    "1,2,4,3,7,8,9\n",
    "\n",
    "Los 2 ultimos casos son:\n",
    "7,8 en el que no es necesario hacer un cambio y 8,9 que tampoco afecta.\n",
    "\n",
    "El problema es que terminamos la secuencia de pasos y la lista sigue sin estar 100% ordenada, por lo que tenemos que volver a ejecutar la misma secuencia de pasos.\n",
    "\n",
    "Ahora la idea es no perder tiempo revisando combinaciones que sabemos están ordenada.\n",
    "\n",
    "En nuestro caso sabemos que al menos los últimos 2 datos estarán ordenados, por lo que si la primera vez teniamos una lista de N datos, tuvimos que hacer N-1 pruebas, entonces la siguiente vez solo será necesario hacer N-2 pruebas y así hasta la última íteración.\n",
    "\n",
    "En caso de que en cualquier de estas íteraciones tengamos un caso en el que no sea necesario intercambiar 2 valores significara que podemos detener el algoritmo.\n",
    "\n",
    "Creemos este algoritmo usando python.\n"
   ]
  },
  {
   "cell_type": "code",
   "execution_count": null,
   "metadata": {},
   "outputs": [],
   "source": [
    "def bubbleSort(lista):\n",
    "    #Aquí vemos todas las iteraciones que podrian ser necesarias\n",
    "    for i in range(len(lista)-1,0,-1):\n",
    "        cambio_listo = True\n",
    "        for j in range(i):\n",
    "            print(i,j)\n",
    "        print('---')\n",
    "        \n",
    "\n",
    "lista = [2,3,1,4,6,4,7,9]\n",
    "bubbleSort(lista)"
   ]
  },
  {
   "cell_type": "markdown",
   "metadata": {},
   "source": [
    "Ahora haremos que el algoritmo haga la comparación y cambio (o swap) que necesitamos."
   ]
  },
  {
   "cell_type": "code",
   "execution_count": 2,
   "metadata": {
    "tags": []
   },
   "outputs": [
    {
     "output_type": "stream",
     "name": "stdout",
     "text": "[2, 3, 1, 4, 6, 4, 7, 9]\nCambiamos 3 con 1\n[2, 1, 3, 4, 6, 4, 7, 9]\n[2, 1, 3, 4, 6, 4, 7, 9]\n[2, 1, 3, 4, 6, 4, 7, 9]\nCambiamos 6 con 4\n[2, 1, 3, 4, 4, 6, 7, 9]\n[2, 1, 3, 4, 4, 6, 7, 9]\n[2, 1, 3, 4, 4, 6, 7, 9]\nCambiamos 2 con 1\n[1, 2, 3, 4, 4, 6, 7, 9]\n[1, 2, 3, 4, 4, 6, 7, 9]\n[1, 2, 3, 4, 4, 6, 7, 9]\n[1, 2, 3, 4, 4, 6, 7, 9]\n[1, 2, 3, 4, 4, 6, 7, 9]\n[1, 2, 3, 4, 4, 6, 7, 9]\n[1, 2, 3, 4, 4, 6, 7, 9]\n[1, 2, 3, 4, 4, 6, 7, 9]\n[1, 2, 3, 4, 4, 6, 7, 9]\n[1, 2, 3, 4, 4, 6, 7, 9]\n[1, 2, 3, 4, 4, 6, 7, 9]\nLista Ordenada\n[1, 2, 3, 4, 4, 6, 7, 9]\n"
    }
   ],
   "source": [
    "def bubbleSort(lista):\n",
    "    #Aquí vemos todas las iteraciones que podrian ser necesarias\n",
    "    for i in range(len(lista)-1,0,-1):\n",
    "        cambio_listo = True\n",
    "        for j in range(i):\n",
    "            if lista[j] > lista[j+1]:\n",
    "                print(f\"Cambiamos {lista[j]} con {lista[j+1]}\")\n",
    "                aux = lista[j]\n",
    "                lista[j] = lista[j+1]\n",
    "                lista[j+1] = aux\n",
    "                cambio_listo = False\n",
    "            print(lista)\n",
    "        \n",
    "        if cambio_listo == True:\n",
    "            print('Lista Ordenada')\n",
    "            break\n",
    "    print(lista)\n",
    "    return\n",
    "\n",
    "lista = [2,3,1,4,6,4,7,9]\n",
    "bubbleSort(lista)"
   ]
  },
  {
   "cell_type": "code",
   "execution_count": 3,
   "metadata": {
    "tags": []
   },
   "outputs": [
    {
     "output_type": "stream",
     "name": "stdout",
     "text": "Cambiamos 20 con 19\n[19, 20, 18, 17, 16, 15, 14, 13, 2]\nCambiamos 20 con 18\n[19, 18, 20, 17, 16, 15, 14, 13, 2]\nCambiamos 20 con 17\n[19, 18, 17, 20, 16, 15, 14, 13, 2]\nCambiamos 20 con 16\n[19, 18, 17, 16, 20, 15, 14, 13, 2]\nCambiamos 20 con 15\n[19, 18, 17, 16, 15, 20, 14, 13, 2]\nCambiamos 20 con 14\n[19, 18, 17, 16, 15, 14, 20, 13, 2]\nCambiamos 20 con 13\n[19, 18, 17, 16, 15, 14, 13, 20, 2]\nCambiamos 20 con 2\n[19, 18, 17, 16, 15, 14, 13, 2, 20]\nCambiamos 19 con 18\n[18, 19, 17, 16, 15, 14, 13, 2, 20]\nCambiamos 19 con 17\n[18, 17, 19, 16, 15, 14, 13, 2, 20]\nCambiamos 19 con 16\n[18, 17, 16, 19, 15, 14, 13, 2, 20]\nCambiamos 19 con 15\n[18, 17, 16, 15, 19, 14, 13, 2, 20]\nCambiamos 19 con 14\n[18, 17, 16, 15, 14, 19, 13, 2, 20]\nCambiamos 19 con 13\n[18, 17, 16, 15, 14, 13, 19, 2, 20]\nCambiamos 19 con 2\n[18, 17, 16, 15, 14, 13, 2, 19, 20]\nCambiamos 18 con 17\n[17, 18, 16, 15, 14, 13, 2, 19, 20]\nCambiamos 18 con 16\n[17, 16, 18, 15, 14, 13, 2, 19, 20]\nCambiamos 18 con 15\n[17, 16, 15, 18, 14, 13, 2, 19, 20]\nCambiamos 18 con 14\n[17, 16, 15, 14, 18, 13, 2, 19, 20]\nCambiamos 18 con 13\n[17, 16, 15, 14, 13, 18, 2, 19, 20]\nCambiamos 18 con 2\n[17, 16, 15, 14, 13, 2, 18, 19, 20]\nCambiamos 17 con 16\n[16, 17, 15, 14, 13, 2, 18, 19, 20]\nCambiamos 17 con 15\n[16, 15, 17, 14, 13, 2, 18, 19, 20]\nCambiamos 17 con 14\n[16, 15, 14, 17, 13, 2, 18, 19, 20]\nCambiamos 17 con 13\n[16, 15, 14, 13, 17, 2, 18, 19, 20]\nCambiamos 17 con 2\n[16, 15, 14, 13, 2, 17, 18, 19, 20]\nCambiamos 16 con 15\n[15, 16, 14, 13, 2, 17, 18, 19, 20]\nCambiamos 16 con 14\n[15, 14, 16, 13, 2, 17, 18, 19, 20]\nCambiamos 16 con 13\n[15, 14, 13, 16, 2, 17, 18, 19, 20]\nCambiamos 16 con 2\n[15, 14, 13, 2, 16, 17, 18, 19, 20]\nCambiamos 15 con 14\n[14, 15, 13, 2, 16, 17, 18, 19, 20]\nCambiamos 15 con 13\n[14, 13, 15, 2, 16, 17, 18, 19, 20]\nCambiamos 15 con 2\n[14, 13, 2, 15, 16, 17, 18, 19, 20]\nCambiamos 14 con 13\n[13, 14, 2, 15, 16, 17, 18, 19, 20]\nCambiamos 14 con 2\n[13, 2, 14, 15, 16, 17, 18, 19, 20]\nCambiamos 13 con 2\n[2, 13, 14, 15, 16, 17, 18, 19, 20]\n[2, 13, 14, 15, 16, 17, 18, 19, 20]\n"
    }
   ],
   "source": [
    "lista = [20,19,18,17,16,15,14,13,2]\n",
    "bubbleSort(lista)"
   ]
  },
  {
   "cell_type": "code",
   "execution_count": null,
   "metadata": {},
   "outputs": [],
   "source": []
  }
 ]
}